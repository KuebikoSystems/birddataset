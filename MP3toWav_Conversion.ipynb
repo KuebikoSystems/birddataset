{
  "nbformat": 4,
  "nbformat_minor": 0,
  "metadata": {
    "colab": {
      "name": "MP3toWav_Conversion.ipynb",
      "provenance": [],
      "authorship_tag": "ABX9TyN90ztlKvrnI7vrnBbObBt4",
      "include_colab_link": true
    },
    "kernelspec": {
      "name": "python3",
      "display_name": "Python 3"
    },
    "language_info": {
      "name": "python"
    }
  },
  "cells": [
    {
      "cell_type": "markdown",
      "metadata": {
        "id": "view-in-github",
        "colab_type": "text"
      },
      "source": [
        "<a href=\"https://colab.research.google.com/github/KuebikoSystems/birddataset/blob/main/MP3toWav_Conversion.ipynb\" target=\"_parent\"><img src=\"https://colab.research.google.com/assets/colab-badge.svg\" alt=\"Open In Colab\"/></a>"
      ]
    },
    {
      "cell_type": "code",
      "source": [
        "!pip install ffmpeg\n",
        "!pip install pydub\n",
        "!pip install pyfiglet\n"
      ],
      "metadata": {
        "id": "PSNwsKwvhXHY",
        "colab": {
          "base_uri": "https://localhost:8080/"
        },
        "outputId": "21ea955e-1173-403e-a97d-2f9c2b081e50"
      },
      "execution_count": null,
      "outputs": [
        {
          "output_type": "stream",
          "name": "stdout",
          "text": [
            "Looking in indexes: https://pypi.org/simple, https://us-python.pkg.dev/colab-wheels/public/simple/\n",
            "Requirement already satisfied: ffmpeg in /usr/local/lib/python3.7/dist-packages (1.4)\n",
            "Looking in indexes: https://pypi.org/simple, https://us-python.pkg.dev/colab-wheels/public/simple/\n",
            "Requirement already satisfied: pydub in /usr/local/lib/python3.7/dist-packages (0.25.1)\n",
            "Looking in indexes: https://pypi.org/simple, https://us-python.pkg.dev/colab-wheels/public/simple/\n",
            "Requirement already satisfied: pyfiglet in /usr/local/lib/python3.7/dist-packages (0.8.post1)\n"
          ]
        }
      ]
    },
    {
      "cell_type": "code",
      "source": [
        "# Import the pyfiglet module  \n",
        "import pyfiglet as pyg  \n",
        "# Taking the input text for slant format  \n",
        "res= pyg.figlet_format(\"KUEBIKO SYSTEMS\", font = \"slant\")   \n",
        "\n",
        "# Printing the result in the output  \n",
        "print(res)  "
      ],
      "metadata": {
        "colab": {
          "base_uri": "https://localhost:8080/"
        },
        "id": "hq6UPmRytw_p",
        "outputId": "8d763fd6-0f01-4dc8-dab4-34cc02a0ce79"
      },
      "execution_count": null,
      "outputs": [
        {
          "output_type": "stream",
          "name": "stdout",
          "text": [
            "    __ ____  ____________  ______ ______ \n",
            "   / //_/ / / / ____/ __ )/  _/ //_/ __ \\\n",
            "  / ,< / / / / __/ / __  |/ // ,< / / / /\n",
            " / /| / /_/ / /___/ /_/ // // /| / /_/ / \n",
            "/_/ |_\\____/_____/_____/___/_/ |_\\____/  \n",
            "                                         \n",
            "   _______  _____________________  ________\n",
            "  / ___/\\ \\/ / ___/_  __/ ____/  |/  / ___/\n",
            "  \\__ \\  \\  /\\__ \\ / / / __/ / /|_/ /\\__ \\ \n",
            " ___/ /  / /___/ // / / /___/ /  / /___/ / \n",
            "/____/  /_//____//_/ /_____/_/  /_//____/  \n",
            "                                           \n",
            "\n"
          ]
        }
      ]
    },
    {
      "cell_type": "code",
      "source": [
        "! git clone -b SpainTest \"https://github.com/KuebikoSystems/birddataset.git\" "
      ],
      "metadata": {
        "id": "Czt8jAuPhRp0",
        "colab": {
          "base_uri": "https://localhost:8080/"
        },
        "outputId": "891d26c2-420e-484a-96be-3db03389685d"
      },
      "execution_count": null,
      "outputs": [
        {
          "output_type": "stream",
          "name": "stdout",
          "text": [
            "Cloning into 'birddataset'...\n",
            "remote: Enumerating objects: 287, done.\u001b[K\n",
            "remote: Counting objects: 100% (40/40), done.\u001b[K\n",
            "remote: Compressing objects: 100% (40/40), done.\u001b[K\n",
            "remote: Total 287 (delta 18), reused 0 (delta 0), pack-reused 247\u001b[K\n",
            "Receiving objects: 100% (287/287), 222.18 MiB | 12.43 MiB/s, done.\n",
            "Resolving deltas: 100% (22/22), done.\n",
            "Checking out files: 100% (246/246), done.\n"
          ]
        }
      ]
    },
    {
      "cell_type": "code",
      "source": [
        "! mkdir WavOutputs\n"
      ],
      "metadata": {
        "id": "KPPHAzPhwitZ"
      },
      "execution_count": null,
      "outputs": []
    },
    {
      "cell_type": "code",
      "source": [
        "! mkdir WavOutputs/CrestedTit\n",
        "! mkdir WavOutputs/CommonRockThrush\n",
        "! mkdir WavOutputs/RedRumpedSwallow"
      ],
      "metadata": {
        "id": "p-fgbIaBjkLf"
      },
      "execution_count": null,
      "outputs": []
    },
    {
      "cell_type": "code",
      "execution_count": null,
      "metadata": {
        "id": "x8gIhm8bg6Ox"
      },
      "outputs": [],
      "source": [
        "# mp3 to wav function \n",
        "\n",
        "import os\n",
        "import pydub\n",
        "from pydub import AudioSegment\n",
        "\n",
        "rtpath = \"/content/birddataset/Species/Common Rock Thrush - Global\"\n",
        "ctpath = \"/content/birddataset/Species/European Crested Tit - Spain\"\n",
        "rrpath = \"/content/birddataset/Species/Red-rumped Swallow - Spain\"\n",
        "\n",
        "#Change working directory\n",
        "os.chdir(rrpath)\n",
        "\n",
        "audio_files = os.listdir()\n",
        "\n",
        "# You dont need the number of files in the folder, just iterate over them directly using:\n",
        "for file in audio_files:\n",
        "    #spliting the file into the name and the extension\n",
        "    name, ext = os.path.splitext(file)\n",
        "    if ext == \".mp3\":\n",
        "       mp3_sound = AudioSegment.from_mp3(file)\n",
        "       #rename them using the old name + \".wav\"\n",
        "       mp3_sound.export(\"{0}.wav\".format(name), format=\"wav\")"
      ]
    },
    {
      "cell_type": "code",
      "source": [
        "dest_dir = '/content/WavOutputs/RedRumpedSwallow'"
      ],
      "metadata": {
        "id": "fHIQT8tDh4VY"
      },
      "execution_count": null,
      "outputs": []
    },
    {
      "cell_type": "code",
      "source": [
        "# wav files to clean destination folder.\n",
        "\n",
        "import glob, os, shutil\n",
        "# traverse whole directory\n",
        "for root, dirs, files in os.walk(r'/content/birddataset/Species/Red-rumped Swallow - Spain'):\n",
        "    # select file name\n",
        "    for file in files:\n",
        "        # check the extension of files\n",
        "        if file.endswith('.wav'):\n",
        "            # print whole path of files\n",
        "            print(os.path.join(root, file))\n",
        "            shutil.copy2(file, dest_dir)"
      ],
      "metadata": {
        "colab": {
          "base_uri": "https://localhost:8080/"
        },
        "id": "Lz5JpzmzznRD",
        "outputId": "0fdc0964-e3e7-43b4-b90f-4df0f687f07a"
      },
      "execution_count": null,
      "outputs": [
        {
          "output_type": "stream",
          "name": "stdout",
          "text": [
            "/content/birddataset/Species/Red-rumped Swallow - Spain/XC318425-cecropis daurica la lantejuela 20-05-2016.wav\n",
            "/content/birddataset/Species/Red-rumped Swallow - Spain/HDAU19h47m53s29aug2009 (2).wav\n",
            "/content/birddataset/Species/Red-rumped Swallow - Spain/CDAU09h07m04s21apr2011 (2).wav\n",
            "/content/birddataset/Species/Red-rumped Swallow - Spain/XC334161-HIRDAU19h44m05s21aug2016 (2).wav\n",
            "/content/birddataset/Species/Red-rumped Swallow - Spain/XC390259-cecropis daurica 7 (esperanza poveda) santa maría de trasierra 20-04-2017.wav\n",
            "/content/birddataset/Species/Red-rumped Swallow - Spain/XC390253-cecropis daurica 3 (esperanza poveda) santa maría de trasierra 20-08-2017.wav\n",
            "/content/birddataset/Species/Red-rumped Swallow - Spain/XC278775-cecropis daurica ruta del agua 03-06-2015.wav\n",
            "/content/birddataset/Species/Red-rumped Swallow - Spain/XC334159-HIRDAU19h27m15s21aug2016 (2).wav\n",
            "/content/birddataset/Species/Red-rumped Swallow - Spain/XC334160-HIRDAU19h41m07s21aug2016 (2).wav\n",
            "/content/birddataset/Species/Red-rumped Swallow - Spain/XC330070-HDAU10h45m02s26apr2010 (2).wav\n",
            "/content/birddataset/Species/Red-rumped Swallow - Spain/XC278139-cecropis daurica el acebuche 26-05-2015.wav\n",
            "/content/birddataset/Species/Red-rumped Swallow - Spain/XC330426-cecropis daurica 2 sierra carbonera 24-07-2016.wav\n",
            "/content/birddataset/Species/Red-rumped Swallow - Spain/Hdau19h34m10s09aug2009 (2).wav\n",
            "/content/birddataset/Species/Red-rumped Swallow - Spain/XC390250-cecropis daurica (esperanza poveda) santa maría de trasierra 20-08-2017.wav\n",
            "/content/birddataset/Species/Red-rumped Swallow - Spain/XC193697-HIRDAU09h39m12s31jul2014 (2).wav\n",
            "/content/birddataset/Species/Red-rumped Swallow - Spain/XC178394-cecropis daurica 5 mi campo 25-04-2014.wav\n",
            "/content/birddataset/Species/Red-rumped Swallow - Spain/XC390256-cecropis daurica 5 (esperanza poveda) santa maría de trasierra 20-08-2017.wav\n",
            "/content/birddataset/Species/Red-rumped Swallow - Spain/XC279611-cecropis daurica parque infanta elena 10-06-2015.wav\n",
            "/content/birddataset/Species/Red-rumped Swallow - Spain/XC178398-cecropis daurica 10 mi campo 25-04-2014.wav\n",
            "/content/birddataset/Species/Red-rumped Swallow - Spain/XC179801-cecropis daurica ribera del parroso 24-05-2014.wav\n",
            "/content/birddataset/Species/Red-rumped Swallow - Spain/XC178397-cecropis daurica 8 mi campo 25-04-2014.wav\n",
            "/content/birddataset/Species/Red-rumped Swallow - Spain/XC330425-cecropis daurica sierra carbonera 24-07-2016.wav\n",
            "/content/birddataset/Species/Red-rumped Swallow - Spain/XC243483-Hirondelles rousselines Monfragüe 28 avril 15, 16h.wav\n",
            "/content/birddataset/Species/Red-rumped Swallow - Spain/XC330427-cecropis daurica playa algeciras 24-07-2016.wav\n",
            "/content/birddataset/Species/Red-rumped Swallow - Spain/XC390252-cecropis daurica 2 (esperanza poveda) santa maría de trasierra 20-08-2017.wav\n",
            "/content/birddataset/Species/Red-rumped Swallow - Spain/XC390255-cecropis daurica 4 (esperanza poveda) santa maría de trasierra 20-08-2017.wav\n",
            "/content/birddataset/Species/Red-rumped Swallow - Spain/Hirundo_daurica-JMM-Font-Calls-090729_0830hb.wav\n",
            "/content/birddataset/Species/Red-rumped Swallow - Spain/XC390257-cecropis daurica 6 (esperanza poveda) santa maría de trasierra 20-04-2017.wav\n",
            "/content/birddataset/Species/Red-rumped Swallow - Spain/XC148621-Rostgumpsvala-(2013-04-03 08.47)-LS113282.wav\n",
            "/content/birddataset/Species/Red-rumped Swallow - Spain/XC178395-cecropis daurica 6 mi campo 25-04-2014.wav\n",
            "/content/birddataset/Species/Red-rumped Swallow - Spain/XC178392-cecropis daurica 3 mi campo 25-04-2014.wav\n",
            "/content/birddataset/Species/Red-rumped Swallow - Spain/HDAU19h34m10s09aug2009 (3).wav\n",
            "/content/birddataset/Species/Red-rumped Swallow - Spain/XC385379-HIRDAU040817-T001_2 (2).wav\n",
            "/content/birddataset/Species/Red-rumped Swallow - Spain/XC178273-Hirondelle rousselines 7 ma ipour XC.wav\n",
            "/content/birddataset/Species/Red-rumped Swallow - Spain/XC175388-cecropis daurica lagunas de las cabezas 12-04-2014.mp3.wav\n",
            "/content/birddataset/Species/Red-rumped Swallow - Spain/XC333855-cecropis daurica sanlucar de barrameda 18-06-2016.wav\n",
            "/content/birddataset/Species/Red-rumped Swallow - Spain/XC278426-cecropis daurica pantano de la minilla 27-05-2015.wav\n",
            "/content/birddataset/Species/Red-rumped Swallow - Spain/XC310524-cecropis daurica arroyo los centinales 26-03-2016.wav\n",
            "/content/birddataset/Species/Red-rumped Swallow - Spain/XC176035-cecropis daurica mi campo 19-04-2014.wav\n",
            "/content/birddataset/Species/Red-rumped Swallow - Spain/XC178396-cecropis daurica 7 mi campo 25-04-2014.wav\n",
            "/content/birddataset/Species/Red-rumped Swallow - Spain/XC310405-cecropis daurica brazo del este 29-03-2016.wav\n",
            "/content/birddataset/Species/Red-rumped Swallow - Spain/XC178393-cecropis daurica 4 mi campo 25-04-2014.wav\n",
            "/content/birddataset/Species/Red-rumped Swallow - Spain/XC282735-cecropis daurica parque alamillo 28-06-2015.wav\n",
            "/content/birddataset/Species/Red-rumped Swallow - Spain/XC178391-cecropis daurica 2 mi campo 25-04-2014.wav\n"
          ]
        }
      ]
    },
    {
      "cell_type": "code",
      "source": [
        "from google.colab import files\n",
        "import os\n",
        "\n",
        "dir_to_zip = '/content/WavOutputs' #@param {type: \"string\"}\n",
        "output_filename = 'WavOutputs' #@param {type: \"string\"}\n",
        "delete_dir_after_download = \"No\"  #@param ['Yes', 'No']\n",
        "\n",
        "os.system( \"zip -r {} {}\".format( output_filename , dir_to_zip ) )\n",
        "\n",
        "if delete_dir_after_download == \"Yes\":\n",
        "    os.system( \"rm -r {}\".format( dir_to_zip ) )\n",
        "\n",
        "files.download( output_filename )"
      ],
      "metadata": {
        "colab": {
          "base_uri": "https://localhost:8080/",
          "height": 321
        },
        "id": "9BkpWhs-0PNP",
        "outputId": "a0021783-43de-4e60-a897-d239106cdc8a"
      },
      "execution_count": null,
      "outputs": [
        {
          "output_type": "error",
          "ename": "FileNotFoundError",
          "evalue": "ignored",
          "traceback": [
            "\u001b[0;31m---------------------------------------------------------------------------\u001b[0m",
            "\u001b[0;31mFileNotFoundError\u001b[0m                         Traceback (most recent call last)",
            "\u001b[0;32m<ipython-input-33-b7b9662a2b58>\u001b[0m in \u001b[0;36m<module>\u001b[0;34m()\u001b[0m\n\u001b[1;32m     11\u001b[0m     \u001b[0mos\u001b[0m\u001b[0;34m.\u001b[0m\u001b[0msystem\u001b[0m\u001b[0;34m(\u001b[0m \u001b[0;34m\"rm -r {}\"\u001b[0m\u001b[0;34m.\u001b[0m\u001b[0mformat\u001b[0m\u001b[0;34m(\u001b[0m \u001b[0mdir_to_zip\u001b[0m \u001b[0;34m)\u001b[0m \u001b[0;34m)\u001b[0m\u001b[0;34m\u001b[0m\u001b[0;34m\u001b[0m\u001b[0m\n\u001b[1;32m     12\u001b[0m \u001b[0;34m\u001b[0m\u001b[0m\n\u001b[0;32m---> 13\u001b[0;31m \u001b[0mfiles\u001b[0m\u001b[0;34m.\u001b[0m\u001b[0mdownload\u001b[0m\u001b[0;34m(\u001b[0m \u001b[0moutput_filename\u001b[0m \u001b[0;34m)\u001b[0m\u001b[0;34m\u001b[0m\u001b[0;34m\u001b[0m\u001b[0m\n\u001b[0m",
            "\u001b[0;32m/usr/local/lib/python3.7/dist-packages/google/colab/files.py\u001b[0m in \u001b[0;36mdownload\u001b[0;34m(filename)\u001b[0m\n\u001b[1;32m    187\u001b[0m       \u001b[0;32mraise\u001b[0m \u001b[0mOSError\u001b[0m\u001b[0;34m(\u001b[0m\u001b[0mmsg\u001b[0m\u001b[0;34m)\u001b[0m\u001b[0;34m\u001b[0m\u001b[0;34m\u001b[0m\u001b[0m\n\u001b[1;32m    188\u001b[0m     \u001b[0;32melse\u001b[0m\u001b[0;34m:\u001b[0m\u001b[0;34m\u001b[0m\u001b[0;34m\u001b[0m\u001b[0m\n\u001b[0;32m--> 189\u001b[0;31m       \u001b[0;32mraise\u001b[0m \u001b[0mFileNotFoundError\u001b[0m\u001b[0;34m(\u001b[0m\u001b[0mmsg\u001b[0m\u001b[0;34m)\u001b[0m  \u001b[0;31m# pylint: disable=undefined-variable\u001b[0m\u001b[0;34m\u001b[0m\u001b[0;34m\u001b[0m\u001b[0m\n\u001b[0m\u001b[1;32m    190\u001b[0m \u001b[0;34m\u001b[0m\u001b[0m\n\u001b[1;32m    191\u001b[0m   \u001b[0mcomm_manager\u001b[0m \u001b[0;34m=\u001b[0m \u001b[0m_IPython\u001b[0m\u001b[0;34m.\u001b[0m\u001b[0mget_ipython\u001b[0m\u001b[0;34m(\u001b[0m\u001b[0;34m)\u001b[0m\u001b[0;34m.\u001b[0m\u001b[0mkernel\u001b[0m\u001b[0;34m.\u001b[0m\u001b[0mcomm_manager\u001b[0m\u001b[0;34m\u001b[0m\u001b[0;34m\u001b[0m\u001b[0m\n",
            "\u001b[0;31mFileNotFoundError\u001b[0m: Cannot find file: WavOutputs"
          ]
        }
      ]
    },
    {
      "cell_type": "code",
      "source": [
        "from google.colab import files\n",
        "import os\n",
        "files.download( '/content/WavOutputs' )"
      ],
      "metadata": {
        "id": "0qQ_3nW2CPb2"
      },
      "execution_count": null,
      "outputs": []
    },
    {
      "cell_type": "code",
      "source": [
        "print(\"test\")"
      ],
      "metadata": {
        "colab": {
          "base_uri": "https://localhost:8080/"
        },
        "id": "p0aWQu09_kTS",
        "outputId": "26f9748b-a1ba-4a61-8157-bf1f298d8505"
      },
      "execution_count": null,
      "outputs": [
        {
          "output_type": "stream",
          "name": "stdout",
          "text": [
            "test\n"
          ]
        }
      ]
    },
    {
      "cell_type": "code",
      "source": [
        "import itertools\n",
        "\n",
        "\n"
      ],
      "metadata": {
        "id": "QluoWbGaBBU-"
      },
      "execution_count": null,
      "outputs": []
    },
    {
      "cell_type": "code",
      "source": [
        ""
      ],
      "metadata": {
        "id": "egqKhijBDFsJ"
      },
      "execution_count": null,
      "outputs": []
    }
  ]
}