{
  "nbformat": 4,
  "nbformat_minor": 0,
  "metadata": {
    "colab": {
      "name": "MP3toWav_Conversion.ipynb",
      "provenance": [],
      "authorship_tag": "ABX9TyO6zyqYozfCIaHsIV3eUHys",
      "include_colab_link": true
    },
    "kernelspec": {
      "name": "python3",
      "display_name": "Python 3"
    },
    "language_info": {
      "name": "python"
    }
  },
  "cells": [
    {
      "cell_type": "markdown",
      "metadata": {
        "id": "view-in-github",
        "colab_type": "text"
      },
      "source": [
        "<a href=\"https://colab.research.google.com/github/KuebikoSystems/birddataset/blob/main/MP3toWav_Conversion.ipynb\" target=\"_parent\"><img src=\"https://colab.research.google.com/assets/colab-badge.svg\" alt=\"Open In Colab\"/></a>"
      ]
    },
    {
      "cell_type": "code",
      "source": [
        "!pip install ffmpeg\n",
        "!pip install pydub\n",
        "!pip install pyfiglet\n"
      ],
      "metadata": {
        "id": "PSNwsKwvhXHY",
        "colab": {
          "base_uri": "https://localhost:8080/"
        },
        "outputId": "50dc1fe2-190a-4439-bb0c-fb50e6627c29"
      },
      "execution_count": 1,
      "outputs": [
        {
          "output_type": "stream",
          "name": "stdout",
          "text": [
            "Looking in indexes: https://pypi.org/simple, https://us-python.pkg.dev/colab-wheels/public/simple/\n",
            "Collecting ffmpeg\n",
            "  Downloading ffmpeg-1.4.tar.gz (5.1 kB)\n",
            "Building wheels for collected packages: ffmpeg\n",
            "  Building wheel for ffmpeg (setup.py) ... \u001b[?25l\u001b[?25hdone\n",
            "  Created wheel for ffmpeg: filename=ffmpeg-1.4-py3-none-any.whl size=6084 sha256=a0064cd2051741620b1f362be15e56157176f4dca77dd7ebb873df7bce59ef2e\n",
            "  Stored in directory: /root/.cache/pip/wheels/64/80/6e/caa3e16deb0267c3cbfd36862058a724144e19fdb9eb03af0f\n",
            "Successfully built ffmpeg\n",
            "Installing collected packages: ffmpeg\n",
            "Successfully installed ffmpeg-1.4\n",
            "Looking in indexes: https://pypi.org/simple, https://us-python.pkg.dev/colab-wheels/public/simple/\n",
            "Collecting pydub\n",
            "  Downloading pydub-0.25.1-py2.py3-none-any.whl (32 kB)\n",
            "Installing collected packages: pydub\n",
            "Successfully installed pydub-0.25.1\n",
            "Looking in indexes: https://pypi.org/simple, https://us-python.pkg.dev/colab-wheels/public/simple/\n",
            "Collecting pyfiglet\n",
            "  Downloading pyfiglet-0.8.post1-py2.py3-none-any.whl (865 kB)\n",
            "\u001b[K     |████████████████████████████████| 865 kB 26.3 MB/s \n",
            "\u001b[?25hInstalling collected packages: pyfiglet\n",
            "Successfully installed pyfiglet-0.8.post1\n"
          ]
        }
      ]
    },
    {
      "cell_type": "code",
      "source": [
        "# Import the pyfiglet module  \n",
        "import pyfiglet as pyg  \n",
        "# Taking the input text for slant format  \n",
        "res= pyg.figlet_format(\"KUEBIKO SYSTEMS\", font = \"slant\")   \n",
        "\n",
        "# Printing the result in the output  \n",
        "print(res)  "
      ],
      "metadata": {
        "colab": {
          "base_uri": "https://localhost:8080/"
        },
        "id": "hq6UPmRytw_p",
        "outputId": "7dc431ee-63c4-4818-b592-adf56e5952bd"
      },
      "execution_count": 2,
      "outputs": [
        {
          "output_type": "stream",
          "name": "stdout",
          "text": [
            "    __ ____  ____________  ______ ______ \n",
            "   / //_/ / / / ____/ __ )/  _/ //_/ __ \\\n",
            "  / ,< / / / / __/ / __  |/ // ,< / / / /\n",
            " / /| / /_/ / /___/ /_/ // // /| / /_/ / \n",
            "/_/ |_\\____/_____/_____/___/_/ |_\\____/  \n",
            "                                         \n",
            "   _______  _____________________  ________\n",
            "  / ___/\\ \\/ / ___/_  __/ ____/  |/  / ___/\n",
            "  \\__ \\  \\  /\\__ \\ / / / __/ / /|_/ /\\__ \\ \n",
            " ___/ /  / /___/ // / / /___/ /  / /___/ / \n",
            "/____/  /_//____//_/ /_____/_/  /_//____/  \n",
            "                                           \n",
            "\n"
          ]
        }
      ]
    },
    {
      "cell_type": "code",
      "source": [
        "! git clone -b SpainTest \"https://github.com/KuebikoSystems/birddataset.git\" "
      ],
      "metadata": {
        "id": "Czt8jAuPhRp0",
        "colab": {
          "base_uri": "https://localhost:8080/"
        },
        "outputId": "ac9d8c5d-8b9f-4dd3-e33c-bc5e6413dfc9"
      },
      "execution_count": 3,
      "outputs": [
        {
          "output_type": "stream",
          "name": "stdout",
          "text": [
            "Cloning into 'birddataset'...\n",
            "remote: Enumerating objects: 284, done.\u001b[K\n",
            "remote: Counting objects: 100% (37/37), done.\u001b[K\n",
            "remote: Compressing objects: 100% (37/37), done.\u001b[K\n",
            "remote: Total 284 (delta 16), reused 0 (delta 0), pack-reused 247\u001b[K\n",
            "Receiving objects: 100% (284/284), 222.18 MiB | 31.05 MiB/s, done.\n",
            "Resolving deltas: 100% (20/20), done.\n",
            "Checking out files: 100% (246/246), done.\n"
          ]
        }
      ]
    },
    {
      "cell_type": "code",
      "source": [
        "! mkdir WavOutputs\n"
      ],
      "metadata": {
        "id": "KPPHAzPhwitZ"
      },
      "execution_count": 4,
      "outputs": []
    },
    {
      "cell_type": "code",
      "source": [
        "! mkdir WavOutputs/CrestedTit"
      ],
      "metadata": {
        "id": "p-fgbIaBjkLf"
      },
      "execution_count": 5,
      "outputs": []
    },
    {
      "cell_type": "code",
      "execution_count": 6,
      "metadata": {
        "id": "x8gIhm8bg6Ox"
      },
      "outputs": [],
      "source": [
        "import os\n",
        "import pydub\n",
        "from pydub import AudioSegment\n",
        "\n",
        "path = \"/content/birddataset/Species/Crested Tit\"\n",
        "\n",
        "#Change working directory\n",
        "os.chdir(path)\n",
        "\n",
        "audio_files = os.listdir()\n",
        "\n",
        "# You dont need the number of files in the folder, just iterate over them directly using:\n",
        "for file in audio_files:\n",
        "    #spliting the file into the name and the extension\n",
        "    name, ext = os.path.splitext(file)\n",
        "    if ext == \".mp3\":\n",
        "       mp3_sound = AudioSegment.from_mp3(file)\n",
        "       #rename them using the old name + \".wav\"\n",
        "       mp3_sound.export(\"{0}.wav\".format(name), format=\"wav\")"
      ]
    },
    {
      "cell_type": "code",
      "source": [
        "dest_dir = '/content/WavOutputs/CrestedTit'"
      ],
      "metadata": {
        "id": "fHIQT8tDh4VY"
      },
      "execution_count": 7,
      "outputs": []
    },
    {
      "cell_type": "code",
      "source": [
        "import glob, os, shutil\n",
        "# traverse whole directory\n",
        "for root, dirs, files in os.walk(r'/content/birddataset/Species/Crested Tit'):\n",
        "    # select file name\n",
        "    for file in files:\n",
        "        # check the extension of files\n",
        "        if file.endswith('.wav'):\n",
        "            # print whole path of files\n",
        "            print(os.path.join(root, file))\n",
        "            shutil.copy2(file, dest_dir)"
      ],
      "metadata": {
        "colab": {
          "base_uri": "https://localhost:8080/"
        },
        "id": "Lz5JpzmzznRD",
        "outputId": "d189196b-9361-446b-dc91-b88234962d80"
      },
      "execution_count": 8,
      "outputs": [
        {
          "output_type": "stream",
          "name": "stdout",
          "text": [
            "/content/birddataset/Species/Crested Tit/XC246413 - European Crested Tit - Lophophanes cristatus.wav\n",
            "/content/birddataset/Species/Crested Tit/XC442319 - European Crested Tit - Lophophanes cristatus.wav\n",
            "/content/birddataset/Species/Crested Tit/XC392922 - European Crested Tit - Lophophanes cristatus.wav\n",
            "/content/birddataset/Species/Crested Tit/XC640277 - European Crested Tit - Lophophanes cristatus.wav\n",
            "/content/birddataset/Species/Crested Tit/XC342496 - European Crested Tit - Lophophanes cristatus.wav\n",
            "/content/birddataset/Species/Crested Tit/XC702264 - European Crested Tit - Lophophanes cristatus.wav\n",
            "/content/birddataset/Species/Crested Tit/XC246414 - European Crested Tit - Lophophanes cristatus.wav\n",
            "/content/birddataset/Species/Crested Tit/XC310398 - European Crested Tit - Lophophanes cristatus.wav\n",
            "/content/birddataset/Species/Crested Tit/XC327546 - European Crested Tit - Lophophanes cristatus.wav\n",
            "/content/birddataset/Species/Crested Tit/XC45594 - European Crested Tit - Lophophanes cristatus.wav\n",
            "/content/birddataset/Species/Crested Tit/XC615461 - European Crested Tit - Lophophanes cristatus.wav\n",
            "/content/birddataset/Species/Crested Tit/XC608690 - European Crested Tit - Lophophanes cristatus.wav\n",
            "/content/birddataset/Species/Crested Tit/XC120182 - European Crested Tit - Lophophanes cristatus.wav\n",
            "/content/birddataset/Species/Crested Tit/XC576574 - European Crested Tit - Lophophanes cristatus.wav\n",
            "/content/birddataset/Species/Crested Tit/XC80639 - European Crested Tit - Lophophanes cristatus.wav\n",
            "/content/birddataset/Species/Crested Tit/XC209056 - European Crested Tit - Lophophanes cristatus.wav\n",
            "/content/birddataset/Species/Crested Tit/XC326951 - European Crested Tit - Lophophanes cristatus.wav\n",
            "/content/birddataset/Species/Crested Tit/XC396291 - European Crested Tit - Lophophanes cristatus.wav\n",
            "/content/birddataset/Species/Crested Tit/XC301897 - European Crested Tit - Lophophanes cristatus.wav\n",
            "/content/birddataset/Species/Crested Tit/XC100772 - European Crested Tit - Lophophanes cristatus.wav\n",
            "/content/birddataset/Species/Crested Tit/XC582616 - European Crested Tit - Lophophanes cristatus.wav\n"
          ]
        }
      ]
    },
    {
      "cell_type": "code",
      "source": [
        ""
      ],
      "metadata": {
        "id": "I2q4cJr0zTje"
      },
      "execution_count": 8,
      "outputs": []
    }
  ]
}