{
  "nbformat": 4,
  "nbformat_minor": 0,
  "metadata": {
    "colab": {
      "name": "MP3toWav_Conversion.ipynb",
      "provenance": [],
      "authorship_tag": "ABX9TyMjoU0aOBZhTv1dGdO44mh0",
      "include_colab_link": true
    },
    "kernelspec": {
      "name": "python3",
      "display_name": "Python 3"
    },
    "language_info": {
      "name": "python"
    }
  },
  "cells": [
    {
      "cell_type": "markdown",
      "metadata": {
        "id": "view-in-github",
        "colab_type": "text"
      },
      "source": [
        "<a href=\"https://colab.research.google.com/github/KuebikoSystems/birddataset/blob/main/MP3toWav_Conversion.ipynb\" target=\"_parent\"><img src=\"https://colab.research.google.com/assets/colab-badge.svg\" alt=\"Open In Colab\"/></a>"
      ]
    },
    {
      "cell_type": "code",
      "source": [
        "!pip install ffmpeg\n",
        "!pip install pydub"
      ],
      "metadata": {
        "id": "PSNwsKwvhXHY"
      },
      "execution_count": null,
      "outputs": []
    },
    {
      "cell_type": "code",
      "source": [
        "! git clone -b SpainTest \"https://github.com/KuebikoSystems/birddataset.git\""
      ],
      "metadata": {
        "id": "Czt8jAuPhRp0"
      },
      "execution_count": null,
      "outputs": []
    },
    {
      "cell_type": "code",
      "execution_count": null,
      "metadata": {
        "id": "x8gIhm8bg6Ox"
      },
      "outputs": [],
      "source": [
        "import os\n",
        "import pydub\n",
        "from pydub import AudioSegment\n",
        "\n",
        "path = \"/content/birddataset/Species/Common Rock Thrush - Global\"\n",
        "\n",
        "#Change working directory\n",
        "os.chdir(path)\n",
        "\n",
        "audio_files = os.listdir()\n",
        "\n",
        "# You dont need the number of files in the folder, just iterate over them directly using:\n",
        "for file in audio_files:\n",
        "    #spliting the file into the name and the extension\n",
        "    name, ext = os.path.splitext(file)\n",
        "    if ext == \".mp3\":\n",
        "       mp3_sound = AudioSegment.from_mp3(file)\n",
        "       #rename them using the old name + \".wav\"\n",
        "       mp3_sound.export(\"{0}.wav\".format(name), format=\"wav\")"
      ]
    },
    {
      "cell_type": "code",
      "source": [
        ""
      ],
      "metadata": {
        "id": "TRaG7N8ZhNm7"
      },
      "execution_count": null,
      "outputs": []
    }
  ]
}