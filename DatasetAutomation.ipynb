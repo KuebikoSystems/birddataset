{
  "nbformat": 4,
  "nbformat_minor": 0,
  "metadata": {
    "colab": {
      "name": "DatasetAutomation.ipynb",
      "provenance": [],
      "mount_file_id": "1mIw3BqeDaJR_a-HhLzcs2lLEJ7wbPUI-",
      "authorship_tag": "ABX9TyPPelRPVSaa8qXH+gN0ILKq",
      "include_colab_link": true
    },
    "kernelspec": {
      "name": "python3",
      "display_name": "Python 3"
    },
    "language_info": {
      "name": "python"
    }
  },
  "cells": [
    {
      "cell_type": "markdown",
      "metadata": {
        "id": "view-in-github",
        "colab_type": "text"
      },
      "source": [
        "<a href=\"https://colab.research.google.com/github/KuebikoSystems/birddataset/blob/main/DatasetAutomation.ipynb\" target=\"_parent\"><img src=\"https://colab.research.google.com/assets/colab-badge.svg\" alt=\"Open In Colab\"/></a>"
      ]
    },
    {
      "cell_type": "code",
      "source": [
        "! git clone -b SpainTest \"https://github.com/KuebikoSystems/birddataset.git\""
      ],
      "metadata": {
        "colab": {
          "base_uri": "https://localhost:8080/"
        },
        "id": "FVZFcUSTTJgt",
        "outputId": "1c3ad92a-72fe-4f1c-af01-a9325222d3b3"
      },
      "execution_count": 1,
      "outputs": [
        {
          "output_type": "stream",
          "name": "stdout",
          "text": [
            "Cloning into 'birddataset'...\n",
            "remote: Enumerating objects: 275, done.\u001b[K\n",
            "remote: Counting objects: 100% (28/28), done.\u001b[K\n",
            "remote: Compressing objects: 100% (28/28), done.\u001b[K\n",
            "remote: Total 275 (delta 12), reused 0 (delta 0), pack-reused 247\u001b[K\n",
            "Receiving objects: 100% (275/275), 222.16 MiB | 26.37 MiB/s, done.\n",
            "Resolving deltas: 100% (16/16), done.\n",
            "Checking out files: 100% (246/246), done.\n"
          ]
        }
      ]
    },
    {
      "cell_type": "code",
      "source": [
        "import os , os.path\n",
        "import glob\n",
        "os.listdir(\"/content/birddataset/Species/\")"
      ],
      "metadata": {
        "colab": {
          "base_uri": "https://localhost:8080/"
        },
        "id": "3xK1vgJbm9t0",
        "outputId": "bac3de98-d122-41a3-a383-d54749a33257"
      },
      "execution_count": 2,
      "outputs": [
        {
          "output_type": "execute_result",
          "data": {
            "text/plain": [
              "['European Crested Tit - Spain',\n",
              " 'Common Rock Thursh',\n",
              " 'Red-rumped Swallow',\n",
              " 'Common Rock Thrush - Global',\n",
              " 'Crested Tit',\n",
              " 'Red-rumped Swallow - Spain']"
            ]
          },
          "metadata": {},
          "execution_count": 2
        }
      ]
    },
    {
      "cell_type": "code",
      "source": [
        "sub_folders = [name for name in os.listdir(dir) if os.path.isdir(os.path.join(dir, name))]\n",
        "print(sub_folders) # this prints all subfolders within the directory"
      ],
      "metadata": {
        "colab": {
          "base_uri": "https://localhost:8080/"
        },
        "id": "Xur4ZxhcHleW",
        "outputId": "b34a2b03-1b44-4d78-ecd6-510dcb12d811"
      },
      "execution_count": 6,
      "outputs": [
        {
          "output_type": "stream",
          "name": "stdout",
          "text": [
            "['European Crested Tit - Spain', 'Common Rock Thursh', 'Red-rumped Swallow', 'Common Rock Thrush - Global', 'Crested Tit', 'Red-rumped Swallow - Spain']\n"
          ]
        }
      ]
    },
    {
      "cell_type": "code",
      "source": [
        "#dir = \n",
        "os.listdir('/content/birddataset/Species/')\n",
        "sub_folders = [name for name in os.listdir(dir) if os.path.isdir(os.path.join(dir, name))]\n",
        "print(sub_folders[0])"
      ],
      "metadata": {
        "colab": {
          "base_uri": "https://localhost:8080/"
        },
        "id": "8uLoskeNzVmZ",
        "outputId": "d9261c46-37a3-4f39-846c-223bc3e7af99"
      },
      "execution_count": 7,
      "outputs": [
        {
          "output_type": "stream",
          "name": "stdout",
          "text": [
            "European Crested Tit - Spain\n"
          ]
        }
      ]
    },
    {
      "cell_type": "code",
      "source": [
        "class direval:\n",
        "  \n",
        "  def dir_structure(startpath):\n",
        "        global dirtotalFiles\n",
        "        dirtotalFiles = 0\n",
        "        global dirtotalDir \n",
        "        dirtotalDir = 0\n",
        "        for base, dirs, files in os.walk(startpath):\n",
        "          #print('Searching in : ',base)\n",
        "          for directories in dirs:\n",
        "              dirtotalDir += 1\n",
        "          for Files in files:\n",
        "              dirtotalFiles += 1\n",
        "\n",
        "        print('Total number of files',dirtotalFiles)\n",
        "        print('Total Number of directories',dirtotalDir)\n",
        "        #print('Total:',(totalDir + totalFiles))\n",
        "        return dirtotalFiles,dirtotalDir;\n",
        "\n",
        "  def dir_list_files(startpath):\n",
        "        for root, dirs, files in os.walk(startpath):\n",
        "            level = root.replace(startpath, '').count(os.sep)\n",
        "            indent = ' ' * 4 * (level)\n",
        "            print('{}{}/'.format(indent, os.path.basename(root)))\n",
        "            subindent = ' ' * 4 * (level + 1)\n",
        "            for f in files:\n",
        "                print('{}{}'.format(subindent, f))\n",
        "  \n",
        "  pass\n"
      ],
      "metadata": {
        "id": "hB0dZI4heXql"
      },
      "execution_count": 8,
      "outputs": []
    },
    {
      "cell_type": "code",
      "source": [
        "#indivusual file directory paths. \n",
        "dir = '/content/birddataset/Species/'\n",
        "crt_dir ='/content/birddataset/Species/Common Rock Thursh'\n",
        "rrs_dir ='/content/birddataset/Species/Red-rumped Swallow'\n",
        "crst_dir = '/content/birddataset/Species/European Crested Tit - Spain'\n"
      ],
      "metadata": {
        "id": "HYopuK7ibtSd"
      },
      "execution_count": 15,
      "outputs": []
    },
    {
      "cell_type": "code",
      "source": [
        "direval.dir_list_files(dir)"
      ],
      "metadata": {
        "colab": {
          "base_uri": "https://localhost:8080/"
        },
        "id": "qBu-zhDYytm4",
        "outputId": "ed07e9ec-176e-4fae-cc3d-b744a66052a6"
      },
      "execution_count": 9,
      "outputs": [
        {
          "output_type": "stream",
          "name": "stdout",
          "text": [
            "/\n",
            "European Crested Tit - Spain/\n",
            "    XC704321-220223_03Lophophanes cristatus foraging on a pine twig 13.30 Galiñeiro Cesures.mp3\n",
            "    XC651641-herrerillos.mp3\n",
            "    XC310398-LOPCRI20h01m53s26mar2016.mp3\n",
            "    European Crested Tit recordings.json\n",
            "    XC568873-lophophaneseMixPre-049.mp3\n",
            "    XC516184-mallempl.mp3\n",
            "    XC412479-Tit_Crested_MX04a_Cazorla_17thApril18.mp3\n",
            "    XC694614-30_12_21_Loph_Crist_CanCarrerres.mp3\n",
            "    XC581452-m 9 13 db.mp3\n",
            "    XC442319-PARCRI111118-T002_CALL.mp3\n",
            "    XC658381-lophophanes.mp3\n",
            "    PCRI07h51m15s06may2012.mp3\n",
            "    XC327546-PARCRI09h01m49s18jul2016 (2).mp3\n",
            "    XC349256-160819_25.mp3\n",
            "    XC512160-Crested Tit_081219_Coll de Pal 2+++.mp3\n",
            "    XC576574-PARCRI170720-T003 (2).mp3\n",
            "    XC640277-LOPCRI180421-T008 (2).mp3\n",
            "    XC612621-capuchino.mp3\n",
            "    XC567258-MGILVE_0314.mp3\n",
            "    XC397544-170713_0042.mp3\n",
            "    XC715206-220413_06Lophophanes cristatus 10.30 Aguieira Portosín.mp3\n",
            "    XC301897-PARCRI10h40m54s22jan2016 (2).mp3\n",
            "    XC579776-mall 29 1.mp3\n",
            "    XC392922-PARATE041117-T014 (2).mp3\n",
            "    XC209056-LOPCRI11h51m44s13dec2014 (2).MP3\n",
            "    XC711883-220324_19 Lophophanes cristatus 17.00 calls Piñeiral Portor, A Baña.mp3\n",
            "    XC620290-herrerrillo capuchino.mp3\n",
            "    XC349087-160819_24.mp3\n",
            "    XC608690-LOPCRI131220-T012_SONG (2).mp3\n",
            "    XC570783-200621-008_HP10N6_20h35_Lcristatus.mp3\n",
            "    XC690381-211205_06 Lophophanes cristatus 16.00 parella nun salgueiro Corrubedo camiño marisma.mp3\n",
            "    XC246414-PARCRI10h49m59s25may2015 (2).mp3\n",
            "    XC655197-210607_02 Lophopanes cristatus, Ons Brión 19.30 .mp3\n",
            "    XC333538-160814_19.mp3\n",
            "    XC615474-16 5.mp3\n",
            "    XC603826-20111005HerrerilloCapuchinoAud mp3.mp3\n",
            "    XC557457-200511-004_HP10N6_19h02_Lcristatus.mp3\n",
            "    XC716861-20220414_0719 Mallerenga emplomallada XC.mp3\n",
            "    XC582616-PARCRI120820-T007 (2).mp3\n",
            "    XC577295-200718-002_HP10N6_16h24_Lcristatus.mp3\n",
            "    XC349257-160819_26.mp3\n",
            "    XC308207-crested-tit-sdn2.mp3\n",
            "    XC120182-PCRI13h31m12s21jan2013 (2).MP3\n",
            "    XC696398-Herrerillo capuchino--10-1-2022.mp3\n",
            "    XC694624-Herrerillo capuchino.mp3\n",
            "    XC396291-LOPCRI171217-T005.mp3\n",
            "    XC695897-20210106_0901 Mallerenga emplomallada XC.mp3\n",
            "    XC412478-Tit_Crested_MX01a_Cazorla_17thApril18.mp3\n",
            "    XC181930-Kuifmees_20140405_13_roepzang.mp3\n",
            "    XC731028-220611_07Lophophanes cristatus grupo de 3 contact call, 9.00 Xinzo, Brión.mp3\n",
            "    XC246413-PARCRI10h48m01s25may2015 (2).mp3\n",
            "    XC308208-crested-tit-sdn1.mp3\n",
            "    XC579994-200729-002_NR5N6_09h18_Lcristatus.mp3\n",
            "    XC690620-Lophophanes cristatus_Montsant_211208_1145.mp3\n",
            "Common Rock Thursh/\n",
            "    XC102155 - Common Rock Thrush - Monticola saxatilis.mp3\n",
            "    XC181713 - Common Rock Thrush - Monticola saxatilis.mp3\n",
            "    XC649771 - Common Rock Thrush - Monticola saxatilis.mp3\n",
            "    XC175529 - Common Rock Thrush - Monticola saxatilis.mp3\n",
            "    XC326648 - Common Rock Thrush - Monticola saxatilis.mp3\n",
            "    XC237725 - Common Rock Thrush - Monticola saxatilis.mp3\n",
            "Red-rumped Swallow/\n",
            "    XC460972 - Red-rumped Swallow - Cecropis daurica.mp3\n",
            "    XC463164 - Red-rumped Swallow - Cecropis daurica rufula.mp3\n",
            "    XC447361 - Red-rumped Swallow - Cecropis daurica.mp3\n",
            "    XC672468 - Red-rumped Swallow - Cecropis daurica.mp3\n",
            "    XC672469 - Red-rumped Swallow - Cecropis daurica.mp3\n",
            "    XC383401 - Red-rumped Swallow - Cecropis daurica.mp3\n",
            "    XC334161 - Red-rumped Swallow - Cecropis daurica.mp3\n",
            "    XC485355 - Red-rumped Swallow - Cecropis daurica rufula.mp3\n",
            "    XC267777 - Red-rumped Swallow - Cecropis daurica.mp3\n",
            "    XC587771 - Red-rumped Swallow - Cecropis daurica.mp3\n",
            "    XC713333 - Red-rumped Swallow - Cecropis daurica.mp3\n",
            "    XC334159 - Red-rumped Swallow - Cecropis daurica.mp3\n",
            "    XC463162 - Red-rumped Swallow - Cecropis daurica rufula.mp3\n",
            "    XC397895 - Red-rumped Swallow - Cecropis daurica.mp3\n",
            "    XC656929 - Red-rumped Swallow - Cecropis daurica.mp3\n",
            "    XC381917 - Red-rumped Swallow - Cecropis daurica.mp3\n",
            "Common Rock Thrush - Global/\n",
            "    XC570533-redusin nombre.mp3\n",
            "    XC296003-codirossone1.mp3\n",
            "    XC647328-145 - Monticole STE-003d.mp3\n",
            "    XC183680-Monticola saxatilis 140503_065,AAA.MP3\n",
            "    XC133429-Monticola_saxatilis_1_2010.mp3\n",
            "    XC168115-2006.05.26 monticole de roche m et f.mp3\n",
            "    XC183678-Monticola saxatilis 140503_065,A.MP3\n",
            "    XC660711-21061814RoqueroRojoH.mp3\n",
            "    XC380049-monticole de roche cri de type verdier (2).mp3\n",
            "    XC569368-Monticole de roche juv cri nasal rapeux.mp3\n",
            "    XC350319-160820_21.mp3\n",
            "    XC677554-Common Rock Thrush_Vardzia_DLY.mp3\n",
            "    XC145211-Rode Rotslijster_20130702_09_zang.mp3\n",
            "    XC178848-Rock Thrush1.mp3\n",
            "    Monticola saxatilis_Raparello.mp3\n",
            "    XC506716-ZOOM0299FA.mp3\n",
            "    XC635794-Common Rock Thrush_Gurvansaikhan_DLY.mp3\n",
            "    XC546960-Monticole_de_roche_cht_2.6.19.mp3\n",
            "    Common Rock Thrush recordings.json\n",
            "    XC653283-20210530_090841.mp3\n",
            "    XC724182-Monticola saxatilis_MALE SONG_Tossa d'Alp_220514_1119.mp3\n",
            "    XC296005-codirossone3.mp3\n",
            "    XC237725-MONSAX10h40m42s28apr2015 (2).mp3\n",
            "    XC380047-monticole de roche cri de type venturon.mp3\n",
            "    XC579758-MonticolasaxatilisAguaviva20072020.mp3\n",
            "    XC378182-codirossone_DR0000_2169.mp3\n",
            "    XC120371-05528_pfranke_110419_steinroe_S_CS_B.mp3\n",
            "    XC480598-Monticola saxatilis 0413_082401,AAA.MP3\n",
            "    XC649771-MONSAX160521-T009 (2).mp3\n",
            "    XC448018--Blåtrast-sång-Georges de la Restonica-(2018-04-07 08.49)-LS115194B.mp3\n",
            "    XC481539-Monticola_saxatilis-FL m song Khokh Lake 2Jun19 2600m 5.22am LS117151a.mp3\n",
            "    XC181565-Monsax_Reculet_20140606_090429_edited.mp3\n",
            "    XC162514-PFR07741_1-11_130523_rtrthrush-1-M-S.mp3\n",
            "    XC296007-codirossone4.mp3\n",
            "    XC468950-MS per XC.mp3\n",
            "    XC380044-monticole de roche chant (2).mp3\n",
            "    XC376741-Codirossone 20617 sotto UF copia.mp3\n",
            "    XC162513-PFR07740_1-10_130523_rtrthrush-1-M-SF-C.mp3\n",
            "    XC650716-Monticola saxatilis_MALE SONG_Boumort_210522_0801.mp3\n",
            "    XC448017--Blåtrast-sång-Georges de la Restonica-(2018-04-07 08.49)-LS115194A.mp3\n",
            "    XC375779-Codirossone calls_0955.mp3\n",
            "    MSAX08h13m46s26may2012.mp3\n",
            "    XC143552-MONTICOLE DE ROCHE 1 male cris 190713 orrcières 308p75 11h38.mp3\n",
            "    XC452294-Monticola_saxatilis-FL X song BagaBogt 13Jun18 5.01am LS111705b.mp3\n",
            "    XC380050-monticole de roche cri de vol.mp3\n",
            "    XC366022-codirossone.mp3\n",
            "    XC568980-Monticole de roche cris couple +.mp3\n",
            "    XC296004-codirossone2.mp3\n",
            "    XC144386-04-Traquet motteux Pourtalet 5 aout 13.mp3\n",
            "    XC569362-Monticole de roche chant 2wav.mp3\n",
            "    XC426168-Monticola saxatilis_song_2018.07.07_17.16_01_Tourém.mp3\n",
            "    XC144786-Monticole de roche Pourtalet 2.mp3\n",
            "    XC564137-20200601_LeukVS_RockThrush_call.mp3\n",
            "    XC183676-Monticola saxatilis 140503_062,C+.MP3\n",
            "    XC481522-Monticola_saxatilis-FL m song Baga Bogt 29May19 5.51am LS117117b.mp3\n",
            "    XC730217-Monticole de roche chant + 2.mp3\n",
            "    XC377050-male Rufous-tailed Rock Thrush Batabat Azerbaijan 9th June 2017_HH_1.mp3\n",
            "    XC380045-monticole de roche chant.mp3\n",
            "    XC726701-MONSAX220522-T018 (2).mp3\n",
            "    XC346454-658_monsax_laulu2_Turkki_Nemrut-dagi_2007-05-30.mp3\n",
            "    XC168114-MZ000067.mp3\n",
            "    XC558041-Saxi monti. Cerdanya 02.07.19 (online-audio-converter.com).mp3\n",
            "    XC570532-2sin nombre.mp3\n",
            "    XC493952-190717_003 - BIH west of Bosansko Grahovo - Common Rock Thrush - B -.mp3\n",
            "    XC452295-Monticola_saxatilis-FL X song BagaBogt 13Jun18 5.08am LS111707a.mp3\n",
            "    XC568977-Monticole de roche cris 2.mp3\n",
            "    XC452293-Monticola_saxatilis-FL male song BagaBogt 13Jun18 5.12am LS111709b.mp3\n",
            "    XC326648-MONSAX10h06m04s27jun2016 (2).mp3\n",
            "    XC414399-monticola saxatilis puntal de las buitreras 30-04-2018.mp3\n",
            "    XC653822-210520_0682.mp3\n",
            "    XC570528-4reduruidosin nombre.mp3\n",
            "    XC175529-MONSAX08h10m33s17apr2014.mp3\n",
            "    XC660123-MGILVE_0755.mp3\n",
            "    XC579206-Steinrötel küken im nest 20200719_083525.mp3\n",
            "    XC183034-rufous-tailed-rock-thrush_140621.mp3\n",
            "    XC568979-Monticole de roche cris 3.mp3\n",
            "    XC730219-Monticole de roche chant +.mp3\n",
            "    XC150094-Monticola_saxatilis-FL song Gobi Gurvansaikhan NP 14May13 LS114651.mp3\n",
            "    XC495352-190717_CommonRockThrush_agitation calls_TabuinGerCamp_OC.mp3\n",
            "    XC569366-Monticole de roche cri nasal rapeux juv sur 2 hauteurs +.mp3\n",
            "    XC181713-MONSAX10h47m13s10jun2014 (2).mp3\n",
            "    XC569363-Monticole de roche chant.mp3\n",
            "    XC653284-20210530_092124.mp3\n",
            "    XC678214-Common Rock Thrush_Vardzia1_DLY.mp3\n",
            "    XC724183-Monticola saxatilis_MALE SONG_Tossa d'Alp_220514_1127.mp3\n",
            "    XC183677-Monticola saxatilis 140503_063,C+.MP3\n",
            "    XC725743-Rock Thrush, 220520-003.mp3\n",
            "    Common Rock Thrush.csv\n",
            "    XC135385-2013052823_0832_Monticola saxatilis_M_F DEROUSSEN.mp3\n",
            "    XC667175-file000054 busatte tempesta da identificare.mp3\n",
            "    XC660122-MGILVE_0758.mp3\n",
            "    XC183679-Monticola saxatilis 140503_065,AA.MP3\n",
            "    XC568982-Monticole de roche cris.mp3\n",
            "    XC650895-Monticola saxatilis_MALE SONG_Boumort_210522_1059.mp3\n",
            "    XC570530-3redu.sin nombre.mp3\n",
            "    XC730218-Monticole de roche chant + 3.mp3\n",
            "    XC178849-Rock Thrush2.mp3\n",
            "    XC132329-Rock Thrush 4 Letino 040513.MP3\n",
            "    XC569371-Monticole de roche juv vol cri nasal rapeux +.mp3\n",
            "    XC414116-Codirossone song_1023.mp3\n",
            "    XC438100-Monticola saxatilis_call_sound-2_2018.07.07_13.36_01_Sezelhe.mp3\n",
            "    XC380048-monticole de roche cri de type verdier.mp3\n",
            "Crested Tit/\n",
            "    XC301897 - European Crested Tit - Lophophanes cristatus.mp3\n",
            "    XC45594 - European Crested Tit - Lophophanes cristatus.mp3\n",
            "    XC576574 - European Crested Tit - Lophophanes cristatus.mp3\n",
            "    XC80639 - European Crested Tit - Lophophanes cristatus.mp3\n",
            "    XC209056 - European Crested Tit - Lophophanes cristatus.mp3\n",
            "    XC246414 - European Crested Tit - Lophophanes cristatus.mp3\n",
            "    XC120182 - European Crested Tit - Lophophanes cristatus.mp3\n",
            "    XC246413 - European Crested Tit - Lophophanes cristatus.mp3\n",
            "    XC326951 - European Crested Tit - Lophophanes cristatus.mp3\n",
            "    XC396291 - European Crested Tit - Lophophanes cristatus.mp3\n",
            "    XC640277 - European Crested Tit - Lophophanes cristatus.mp3\n",
            "    XC327546 - European Crested Tit - Lophophanes cristatus.mp3\n",
            "    XC582616 - European Crested Tit - Lophophanes cristatus.mp3\n",
            "    XC100772 - European Crested Tit - Lophophanes cristatus.mp3\n",
            "    XC310398 - European Crested Tit - Lophophanes cristatus.mp3\n",
            "    XC608690 - European Crested Tit - Lophophanes cristatus.mp3\n",
            "    XC392922 - European Crested Tit - Lophophanes cristatus.mp3\n",
            "    XC442319 - European Crested Tit - Lophophanes cristatus.mp3\n",
            "    XC342496 - European Crested Tit - Lophophanes cristatus.mp3\n",
            "    XC702264 - European Crested Tit - Lophophanes cristatus.mp3\n",
            "    XC615461 - European Crested Tit - Lophophanes cristatus.mp3\n",
            "Red-rumped Swallow - Spain/\n",
            "    XC333855-cecropis daurica sanlucar de barrameda 18-06-2016.mp3\n",
            "    XC390256-cecropis daurica 5 (esperanza poveda) santa maría de trasierra 20-08-2017.mp3\n",
            "    CDAU09h07m04s21apr2011 (2).mp3\n",
            "    XC282735-cecropis daurica parque alamillo 28-06-2015.mp3\n",
            "    XC390250-cecropis daurica (esperanza poveda) santa maría de trasierra 20-08-2017.mp3\n",
            "    XC334161-HIRDAU19h44m05s21aug2016 (2).mp3\n",
            "    XC390253-cecropis daurica 3 (esperanza poveda) santa maría de trasierra 20-08-2017.mp3\n",
            "    Hdau19h34m10s09aug2009 (2).mp3\n",
            "    XC178393-cecropis daurica 4 mi campo 25-04-2014.mp3\n",
            "    XC330070-HDAU10h45m02s26apr2010 (2).mp3\n",
            "    Red-rumped Swallow recordings.json\n",
            "    XC178397-cecropis daurica 8 mi campo 25-04-2014.mp3\n",
            "    XC175388-cecropis daurica lagunas de las cabezas 12-04-2014.mp3.mp3\n",
            "    XC178398-cecropis daurica 10 mi campo 25-04-2014.mp3\n",
            "    XC178394-cecropis daurica 5 mi campo 25-04-2014.mp3\n",
            "    XC243483-Hirondelles rousselines Monfragüe 28 avril 15, 16h.mp3\n",
            "    XC334160-HIRDAU19h41m07s21aug2016 (2).mp3\n",
            "    XC176035-cecropis daurica mi campo 19-04-2014.mp3\n",
            "    XC330427-cecropis daurica playa algeciras 24-07-2016.mp3\n",
            "    Red-rumped Swallow xeno-canto.csv\n",
            "    XC310524-cecropis daurica arroyo los centinales 26-03-2016.mp3\n",
            "    XC334159-HIRDAU19h27m15s21aug2016 (2).mp3\n",
            "    XC279611-cecropis daurica parque infanta elena 10-06-2015.mp3\n",
            "    HDAU19h47m53s29aug2009 (2).mp3\n",
            "    HDAU19h34m10s09aug2009 (3).mp3\n",
            "    XC148621-Rostgumpsvala-(2013-04-03 08.47)-LS113282.mp3\n",
            "    XC330426-cecropis daurica 2 sierra carbonera 24-07-2016.mp3\n",
            "    XC193697-HIRDAU09h39m12s31jul2014 (2).mp3\n",
            "    XC310405-cecropis daurica brazo del este 29-03-2016.mp3\n",
            "    XC390255-cecropis daurica 4 (esperanza poveda) santa maría de trasierra 20-08-2017.mp3\n",
            "    XC178392-cecropis daurica 3 mi campo 25-04-2014.mp3\n",
            "    XC278775-cecropis daurica ruta del agua 03-06-2015.mp3\n",
            "    XC179801-cecropis daurica ribera del parroso 24-05-2014.mp3\n",
            "    XC385379-HIRDAU040817-T001_2 (2).mp3\n",
            "    XC278426-cecropis daurica pantano de la minilla 27-05-2015.mp3\n",
            "    Hirundo_daurica-JMM-Font-Calls-090729_0830hb.mp3\n",
            "    XC178395-cecropis daurica 6 mi campo 25-04-2014.mp3\n",
            "    XC278139-cecropis daurica el acebuche 26-05-2015.mp3\n",
            "    XC178396-cecropis daurica 7 mi campo 25-04-2014.mp3\n",
            "    XC330425-cecropis daurica sierra carbonera 24-07-2016.mp3\n",
            "    XC390252-cecropis daurica 2 (esperanza poveda) santa maría de trasierra 20-08-2017.mp3\n",
            "    XC178273-Hirondelle rousselines 7 ma ipour XC.mp3\n",
            "    XC390259-cecropis daurica 7 (esperanza poveda) santa maría de trasierra 20-04-2017.mp3\n",
            "    XC318425-cecropis daurica la lantejuela 20-05-2016.mp3\n",
            "    XC390257-cecropis daurica 6 (esperanza poveda) santa maría de trasierra 20-04-2017.mp3\n",
            "    XC178391-cecropis daurica 2 mi campo 25-04-2014.mp3\n"
          ]
        }
      ]
    },
    {
      "cell_type": "code",
      "source": [
        "# Checking indivisual folders.\n",
        "#direval.dir_structure(rrs_dir)\n",
        "#direval.dir_structure(dir)\n",
        "direval.dir_structure(crst_dir)\n"
      ],
      "metadata": {
        "colab": {
          "base_uri": "https://localhost:8080/"
        },
        "id": "1TATDJQJL1aP",
        "outputId": "22e031d9-121b-4639-8c39-1fb48d719337"
      },
      "execution_count": 17,
      "outputs": [
        {
          "output_type": "stream",
          "name": "stdout",
          "text": [
            "Total number of files 54\n",
            "Total Number of directories 0\n"
          ]
        },
        {
          "output_type": "execute_result",
          "data": {
            "text/plain": [
              "(54, 0)"
            ]
          },
          "metadata": {},
          "execution_count": 17
        }
      ]
    },
    {
      "cell_type": "code",
      "source": [
        "#Folder wise plotting functio \n",
        "\n",
        "import matplotlib.pyplot as plt\n",
        "import numpy as np\n",
        "\n",
        "# Some example data to display\n",
        "x = np.linspace(0, 2 * np.pi, 400)\n",
        "y = np.sin(x ** 2)"
      ],
      "metadata": {
        "id": "1akGFKO9DUUh"
      },
      "execution_count": 18,
      "outputs": []
    },
    {
      "cell_type": "code",
      "source": [
        "#numfiles = 4\n",
        "fig, axs = plt.subplots(nrows = dirtotalFiles, ncols=1, sharex=True, )\n",
        "\n",
        "# \"axes\" is a 2D array of axes objects.  You can index it as axes[i,j] \n",
        "# or iterate over all items with axes.flat\n",
        "axs.set_title(sub_folders[0], size=20)\n",
        "\n",
        "# Plot on all axes\n",
        "for ax in axs.flat:\n",
        "    x, y = 10 * np.random.random((2, 20))\n",
        "    colors = np.random.random((20, 3))\n",
        "    ax.scatter(x, y, s=80, facecolors=colors, edgecolors='')\n",
        "    ax.set(xticks=np.linspace(0, 10, 6), yticks=np.linspace(0, 10, 6))\n",
        "\n",
        "# Operate on just the top row of axes:\n",
        "#for ax, label in zip(axs[0, :], 'sub_folders[0]'):\n",
        "   \n",
        "# Operate on just the first column of axes:\n",
        "#for ax, label in zip(axs[:,0], ['E', 'F', 'G', 'H']):\n",
        "    #ax.set_ylabel(label, size=20)\n",
        "\n",
        "plt.show()"
      ],
      "metadata": {
        "colab": {
          "base_uri": "https://localhost:8080/",
          "height": 487
        },
        "id": "8qFokDkHDb59",
        "outputId": "39875013-9b49-47b9-9d2b-b34d64949625"
      },
      "execution_count": 20,
      "outputs": [
        {
          "output_type": "error",
          "ename": "AttributeError",
          "evalue": "ignored",
          "traceback": [
            "\u001b[0;31m---------------------------------------------------------------------------\u001b[0m",
            "\u001b[0;31mAttributeError\u001b[0m                            Traceback (most recent call last)",
            "\u001b[0;32m<ipython-input-20-bbbad1dc6075>\u001b[0m in \u001b[0;36m<module>\u001b[0;34m()\u001b[0m\n\u001b[1;32m      4\u001b[0m \u001b[0;31m# \"axes\" is a 2D array of axes objects.  You can index it as axes[i,j]\u001b[0m\u001b[0;34m\u001b[0m\u001b[0;34m\u001b[0m\u001b[0;34m\u001b[0m\u001b[0m\n\u001b[1;32m      5\u001b[0m \u001b[0;31m# or iterate over all items with axes.flat\u001b[0m\u001b[0;34m\u001b[0m\u001b[0;34m\u001b[0m\u001b[0;34m\u001b[0m\u001b[0m\n\u001b[0;32m----> 6\u001b[0;31m \u001b[0maxs\u001b[0m\u001b[0;34m.\u001b[0m\u001b[0mset_title\u001b[0m\u001b[0;34m(\u001b[0m\u001b[0msub_folders\u001b[0m\u001b[0;34m[\u001b[0m\u001b[0;36m0\u001b[0m\u001b[0;34m]\u001b[0m\u001b[0;34m,\u001b[0m \u001b[0msize\u001b[0m\u001b[0;34m=\u001b[0m\u001b[0;36m20\u001b[0m\u001b[0;34m)\u001b[0m\u001b[0;34m\u001b[0m\u001b[0;34m\u001b[0m\u001b[0m\n\u001b[0m\u001b[1;32m      7\u001b[0m \u001b[0;34m\u001b[0m\u001b[0m\n\u001b[1;32m      8\u001b[0m \u001b[0;31m# Plot on all axes\u001b[0m\u001b[0;34m\u001b[0m\u001b[0;34m\u001b[0m\u001b[0;34m\u001b[0m\u001b[0m\n",
            "\u001b[0;31mAttributeError\u001b[0m: 'numpy.ndarray' object has no attribute 'set_title'"
          ]
        },
        {
          "output_type": "display_data",
          "data": {
            "text/plain": [
              "<Figure size 432x288 with 54 Axes>"
            ],
            "image/png": "[encoded data removed]"
          },
          "metadata": {
            "needs_background": "light"
          }
        }
      ]
    },
    {
      "cell_type": "code",
      "source": [
        ""
      ],
      "metadata": {
        "id": "CfgUNTfi2eMz"
      },
      "execution_count": null,
      "outputs": []
    }
  ]
}