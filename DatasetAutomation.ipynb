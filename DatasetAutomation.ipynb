{
  "nbformat": 4,
  "nbformat_minor": 0,
  "metadata": {
    "colab": {
      "name": "DatasetAutomation.ipynb",
      "provenance": [],
      "mount_file_id": "1mIw3BqeDaJR_a-HhLzcs2lLEJ7wbPUI-",
      "authorship_tag": "ABX9TyNaQzbbd5ZCxsHcukDwTtj/",
      "include_colab_link": true
    },
    "kernelspec": {
      "name": "python3",
      "display_name": "Python 3"
    },
    "language_info": {
      "name": "python"
    }
  },
  "cells": [
    {
      "cell_type": "markdown",
      "metadata": {
        "id": "view-in-github",
        "colab_type": "text"
      },
      "source": [
        "<a href=\"https://colab.research.google.com/github/KuebikoSystems/birddataset/blob/main/DatasetAutomation.ipynb\" target=\"_parent\"><img src=\"https://colab.research.google.com/assets/colab-badge.svg\" alt=\"Open In Colab\"/></a>"
      ]
    },
    {
      "cell_type": "code",
      "source": [
        "! git clone \"https://github.com/KuebikoSystems/birddataset.git\""
      ],
      "metadata": {
        "colab": {
          "base_uri": "https://localhost:8080/"
        },
        "id": "FVZFcUSTTJgt",
        "outputId": "5106c087-25d7-4f6d-f102-a6d110809817"
      },
      "execution_count": 1,
      "outputs": [
        {
          "output_type": "stream",
          "name": "stdout",
          "text": [
            "Cloning into 'birddataset'...\n",
            "remote: Enumerating objects: 272, done.\u001b[K\n",
            "remote: Counting objects: 100% (25/25), done.\u001b[K\n",
            "remote: Compressing objects: 100% (25/25), done.\u001b[K\n",
            "remote: Total 272 (delta 11), reused 0 (delta 0), pack-reused 247\u001b[K\n",
            "Receiving objects: 100% (272/272), 222.12 MiB | 26.34 MiB/s, done.\n",
            "Resolving deltas: 100% (15/15), done.\n"
          ]
        }
      ]
    },
    {
      "cell_type": "code",
      "source": [
        "import os , os.path\n",
        "import glob\n",
        "os.listdir(\"/content/birddataset/Species/\")"
      ],
      "metadata": {
        "colab": {
          "base_uri": "https://localhost:8080/"
        },
        "id": "3xK1vgJbm9t0",
        "outputId": "138b348b-6fba-4b92-dd66-a65addfb10c2"
      },
      "execution_count": 2,
      "outputs": [
        {
          "output_type": "execute_result",
          "data": {
            "text/plain": [
              "['Crested Tit', 'Common Rock Thursh', 'Red-rumped Swallow']"
            ]
          },
          "metadata": {},
          "execution_count": 2
        }
      ]
    },
    {
      "cell_type": "code",
      "source": [
        "sub_folders = [name for name in os.listdir(dir) if os.path.isdir(os.path.join(dir, name))]\n",
        "print(sub_folders) # this prints all subfolders within the directory"
      ],
      "metadata": {
        "colab": {
          "base_uri": "https://localhost:8080/"
        },
        "id": "Xur4ZxhcHleW",
        "outputId": "4155b4a3-0079-4ff5-d306-bff99dd52dce"
      },
      "execution_count": 18,
      "outputs": [
        {
          "output_type": "stream",
          "name": "stdout",
          "text": [
            "['Crested Tit', 'Common Rock Thursh', 'Red-rumped Swallow']\n"
          ]
        }
      ]
    },
    {
      "cell_type": "code",
      "source": [
        "#dir = \n",
        "os.listdir('/content/birddataset/Species/')\n",
        "sub_folders = [name for name in os.listdir(dir) if os.path.isdir(os.path.join(dir, name))]\n",
        "print(sub_folders[0])"
      ],
      "metadata": {
        "colab": {
          "base_uri": "https://localhost:8080/"
        },
        "id": "8uLoskeNzVmZ",
        "outputId": "20470b7b-3df1-4079-beb6-1484383f0f71"
      },
      "execution_count": 6,
      "outputs": [
        {
          "output_type": "stream",
          "name": "stdout",
          "text": [
            "Crested Tit\n"
          ]
        }
      ]
    },
    {
      "cell_type": "code",
      "source": [
        "class direval:\n",
        "  \n",
        "  def dir_structure(startpath):\n",
        "        global dirtotalFiles\n",
        "        dirtotalFiles = 0\n",
        "        global dirtotalDir \n",
        "        dirtotalDir = 0\n",
        "        for base, dirs, files in os.walk(startpath):\n",
        "          #print('Searching in : ',base)\n",
        "          for directories in dirs:\n",
        "              dirtotalDir += 1\n",
        "          for Files in files:\n",
        "              dirtotalFiles += 1\n",
        "\n",
        "        print('Total number of files',dirtotalFiles)\n",
        "        print('Total Number of directories',dirtotalDir)\n",
        "        #print('Total:',(totalDir + totalFiles))\n",
        "        return dirtotalFiles,dirtotalDir;\n",
        "\n",
        "  def dir_list_files(startpath):\n",
        "        for root, dirs, files in os.walk(startpath):\n",
        "            level = root.replace(startpath, '').count(os.sep)\n",
        "            indent = ' ' * 4 * (level)\n",
        "            print('{}{}/'.format(indent, os.path.basename(root)))\n",
        "            subindent = ' ' * 4 * (level + 1)\n",
        "            for f in files:\n",
        "                print('{}{}'.format(subindent, f))\n",
        "  \n",
        "  pass\n"
      ],
      "metadata": {
        "id": "hB0dZI4heXql"
      },
      "execution_count": 12,
      "outputs": []
    },
    {
      "cell_type": "code",
      "source": [
        "#indivusual file directory paths. \n",
        "dir = '/content/birddataset/Species/'\n",
        "crt_dir ='/content/birddataset/Species/Common Rock Thursh'\n",
        "rrs_dir ='/content/birddataset/Species/Red-rumped Swallow'\n",
        "crst_dir = '/content/birddataset/Species/Crested Tit'\n"
      ],
      "metadata": {
        "id": "HYopuK7ibtSd"
      },
      "execution_count": 5,
      "outputs": []
    },
    {
      "cell_type": "code",
      "source": [
        "direval.dir_list_files(dir)"
      ],
      "metadata": {
        "colab": {
          "base_uri": "https://localhost:8080/"
        },
        "id": "qBu-zhDYytm4",
        "outputId": "f509807a-e299-4ae9-883d-e911ce32c87b"
      },
      "execution_count": 8,
      "outputs": [
        {
          "output_type": "stream",
          "name": "stdout",
          "text": [
            "/\n",
            "Crested Tit/\n",
            "    XC608690 - European Crested Tit - Lophophanes cristatus.mp3\n",
            "    XC582616 - European Crested Tit - Lophophanes cristatus.mp3\n",
            "    XC392922 - European Crested Tit - Lophophanes cristatus.mp3\n",
            "    XC246414 - European Crested Tit - Lophophanes cristatus.mp3\n",
            "    XC246413 - European Crested Tit - Lophophanes cristatus.mp3\n",
            "    XC576574 - European Crested Tit - Lophophanes cristatus.mp3\n",
            "    XC702264 - European Crested Tit - Lophophanes cristatus.mp3\n",
            "    XC209056 - European Crested Tit - Lophophanes cristatus.mp3\n",
            "    XC327546 - European Crested Tit - Lophophanes cristatus.mp3\n",
            "    XC100772 - European Crested Tit - Lophophanes cristatus.mp3\n",
            "    XC396291 - European Crested Tit - Lophophanes cristatus.mp3\n",
            "    XC120182 - European Crested Tit - Lophophanes cristatus.mp3\n",
            "    XC640277 - European Crested Tit - Lophophanes cristatus.mp3\n",
            "    XC342496 - European Crested Tit - Lophophanes cristatus.mp3\n",
            "    XC301897 - European Crested Tit - Lophophanes cristatus.mp3\n",
            "    XC442319 - European Crested Tit - Lophophanes cristatus.mp3\n",
            "    XC45594 - European Crested Tit - Lophophanes cristatus.mp3\n",
            "    XC615461 - European Crested Tit - Lophophanes cristatus.mp3\n",
            "    XC326951 - European Crested Tit - Lophophanes cristatus.mp3\n",
            "    XC310398 - European Crested Tit - Lophophanes cristatus.mp3\n",
            "    XC80639 - European Crested Tit - Lophophanes cristatus.mp3\n",
            "Common Rock Thursh/\n",
            "    XC181713 - Common Rock Thrush - Monticola saxatilis.mp3\n",
            "    XC237725 - Common Rock Thrush - Monticola saxatilis.mp3\n",
            "    XC649771 - Common Rock Thrush - Monticola saxatilis.mp3\n",
            "    XC102155 - Common Rock Thrush - Monticola saxatilis.mp3\n",
            "    XC175529 - Common Rock Thrush - Monticola saxatilis.mp3\n",
            "    XC326648 - Common Rock Thrush - Monticola saxatilis.mp3\n",
            "Red-rumped Swallow/\n",
            "    XC267777 - Red-rumped Swallow - Cecropis daurica.mp3\n",
            "    XC397895 - Red-rumped Swallow - Cecropis daurica.mp3\n",
            "    XC656929 - Red-rumped Swallow - Cecropis daurica.mp3\n",
            "    XC334161 - Red-rumped Swallow - Cecropis daurica.mp3\n",
            "    XC447361 - Red-rumped Swallow - Cecropis daurica.mp3\n",
            "    XC334159 - Red-rumped Swallow - Cecropis daurica.mp3\n",
            "    XC587771 - Red-rumped Swallow - Cecropis daurica.mp3\n",
            "    XC463164 - Red-rumped Swallow - Cecropis daurica rufula.mp3\n",
            "    XC672468 - Red-rumped Swallow - Cecropis daurica.mp3\n",
            "    XC460972 - Red-rumped Swallow - Cecropis daurica.mp3\n",
            "    XC381917 - Red-rumped Swallow - Cecropis daurica.mp3\n",
            "    XC485355 - Red-rumped Swallow - Cecropis daurica rufula.mp3\n",
            "    XC383401 - Red-rumped Swallow - Cecropis daurica.mp3\n",
            "    XC672469 - Red-rumped Swallow - Cecropis daurica.mp3\n",
            "    XC463162 - Red-rumped Swallow - Cecropis daurica rufula.mp3\n",
            "    XC713333 - Red-rumped Swallow - Cecropis daurica.mp3\n"
          ]
        }
      ]
    },
    {
      "cell_type": "code",
      "source": [
        "# Checking indivisual folders.\n",
        "direval.dir_structure(rrs_dir)\n",
        "#direval.dir_structure(dir)\n",
        "#direval.dir_structure(crt_dir)\n"
      ],
      "metadata": {
        "colab": {
          "base_uri": "https://localhost:8080/"
        },
        "id": "1TATDJQJL1aP",
        "outputId": "537132eb-bd6e-44c0-dd2f-4e2b8ba41190"
      },
      "execution_count": 15,
      "outputs": [
        {
          "output_type": "stream",
          "name": "stdout",
          "text": [
            "Total number of files 16\n",
            "Total Number of directories 0\n"
          ]
        },
        {
          "output_type": "execute_result",
          "data": {
            "text/plain": [
              "(16, 0)"
            ]
          },
          "metadata": {},
          "execution_count": 15
        }
      ]
    },
    {
      "cell_type": "code",
      "source": [
        "#Folder wise plotting functio \n",
        "\n",
        "import matplotlib.pyplot as plt\n",
        "import numpy as np\n",
        "\n",
        "# Some example data to display\n",
        "x = np.linspace(0, 2 * np.pi, 400)\n",
        "y = np.sin(x ** 2)"
      ],
      "metadata": {
        "id": "1akGFKO9DUUh"
      },
      "execution_count": 10,
      "outputs": []
    },
    {
      "cell_type": "code",
      "source": [
        "#numfiles = 4\n",
        "fig, axs = plt.subplots(nrows = dirtotalFiles, ncols=1, sharex=True, )\n",
        "\n",
        "# \"axes\" is a 2D array of axes objects.  You can index it as axes[i,j] \n",
        "# or iterate over all items with axes.flat\n",
        "ax.set_title(sub_folders[0], size=20)\n",
        "\n",
        "# Plot on all axes\n",
        "for ax in axs.flat:\n",
        "    x, y = 10 * np.random.random((2, 20))\n",
        "    colors = np.random.random((20, 3))\n",
        "    ax.scatter(x, y, s=80, facecolors=colors, edgecolors='')\n",
        "    ax.set(xticks=np.linspace(0, 10, 6), yticks=np.linspace(0, 10, 6))\n",
        "\n",
        "# Operate on just the top row of axes:\n",
        "#for ax, label in zip(axs[0, :], 'sub_folders[0]'):\n",
        "   \n",
        "# Operate on just the first column of axes:\n",
        "#for ax, label in zip(axs[:,0], ['E', 'F', 'G', 'H']):\n",
        "    #ax.set_ylabel(label, size=20)\n",
        "\n",
        "plt.show()"
      ],
      "metadata": {
        "colab": {
          "base_uri": "https://localhost:8080/",
          "height": 324
        },
        "id": "8qFokDkHDb59",
        "outputId": "ffa34a4f-80fe-401f-d32a-fb6828d74243"
      },
      "execution_count": 21,
      "outputs": [
        {
          "output_type": "stream",
          "name": "stderr",
          "text": [
            "/usr/local/lib/python3.7/dist-packages/ipykernel_launcher.py:12: MatplotlibDeprecationWarning: Using a string of single character colors as a color sequence is deprecated. Use an explicit list instead.\n",
            "  if sys.path[0] == '':\n"
          ]
        },
        {
          "output_type": "display_data",
          "data": {
            "text/plain": [
              "<Figure size 432x288 with 16 Axes>"
            ],
            "image/png": "[encoded data removed]"
          },
          "metadata": {
            "needs_background": "light"
          }
        }
      ]
    },
    {
      "cell_type": "code",
      "source": [
        ""
      ],
      "metadata": {
        "id": "CfgUNTfi2eMz"
      },
      "execution_count": null,
      "outputs": []
    }
  ]
}