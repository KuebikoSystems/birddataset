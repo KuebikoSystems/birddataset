{
  "nbformat": 4,
  "nbformat_minor": 0,
  "metadata": {
    "colab": {
      "name": "DatasetAutomation.ipynb",
      "provenance": [],
      "mount_file_id": "1mIw3BqeDaJR_a-HhLzcs2lLEJ7wbPUI-",
      "authorship_tag": "ABX9TyNOJyReFAS0vzxfQ2SQN/lg",
      "include_colab_link": true
    },
    "kernelspec": {
      "name": "python3",
      "display_name": "Python 3"
    },
    "language_info": {
      "name": "python"
    }
  },
  "cells": [
    {
      "cell_type": "markdown",
      "metadata": {
        "id": "view-in-github",
        "colab_type": "text"
      },
      "source": [
        "<a href=\"https://colab.research.google.com/github/KuebikoSystems/birddataset/blob/main/DatasetAutomation.ipynb\" target=\"_parent\"><img src=\"https://colab.research.google.com/assets/colab-badge.svg\" alt=\"Open In Colab\"/></a>"
      ]
    },
    {
      "cell_type": "code",
      "source": [
        "! git clone \"https://github.com/KuebikoSystems/birddataset.git\""
      ],
      "metadata": {
        "colab": {
          "base_uri": "https://localhost:8080/"
        },
        "id": "FVZFcUSTTJgt",
        "outputId": "21ed279b-88b6-421e-d6d8-d32f1a8958d4"
      },
      "execution_count": 3,
      "outputs": [
        {
          "output_type": "stream",
          "name": "stdout",
          "text": [
            "Cloning into 'birddataset'...\n",
            "remote: Enumerating objects: 266, done.\u001b[K\n",
            "remote: Counting objects: 100% (19/19), done.\u001b[K\n",
            "remote: Compressing objects: 100% (19/19), done.\u001b[K\n",
            "remote: Total 266 (delta 9), reused 0 (delta 0), pack-reused 247\u001b[K\n",
            "Receiving objects: 100% (266/266), 222.01 MiB | 13.66 MiB/s, done.\n",
            "Resolving deltas: 100% (13/13), done.\n"
          ]
        }
      ]
    },
    {
      "cell_type": "code",
      "source": [
        "import os , os.path\n",
        "import glob\n",
        "os.listdir(\"/content/birddataset/Species/\")"
      ],
      "metadata": {
        "colab": {
          "base_uri": "https://localhost:8080/"
        },
        "id": "3xK1vgJbm9t0",
        "outputId": "9d91ea95-7aa9-4004-8c05-e24bdee2b6e1"
      },
      "execution_count": 4,
      "outputs": [
        {
          "output_type": "execute_result",
          "data": {
            "text/plain": [
              "['Red-rumped Swallow', 'Common Rock Thursh', 'Crested Tit']"
            ]
          },
          "metadata": {},
          "execution_count": 4
        }
      ]
    },
    {
      "cell_type": "code",
      "source": [
        "dir = '/content/birddataset/Species/'\n",
        "class analyis:\n",
        "\n",
        "      def list_files(startpath):\n",
        "        for root, dirs, files in os.walk(startpath):\n",
        "            level = root.replace(startpath, '').count(os.sep)\n",
        "            indent = ' ' * 4 * (level)\n",
        "            print('{}{}/'.format(indent, os.path.basename(root)))\n",
        "            subindent = ' ' * 4 * (level + 1)\n",
        "            for f in files:\n",
        "                print('{}{}'.format(subindent, f))\n",
        "\n",
        "      def structure(startpath):\n",
        "        global totalFiles\n",
        "        totalFiles = 0\n",
        "        global totalDir \n",
        "        totalDir = 0\n",
        "        for base, dirs, files in os.walk(startpath):\n",
        "          #print('Searching in : ',base)\n",
        "          for directories in dirs:\n",
        "              totalDir += 1\n",
        "          for Files in files:\n",
        "              totalFiles += 1\n",
        "\n",
        "        print('Total number of files',totalFiles)\n",
        "        print('Total Number of directories',totalDir)\n",
        "        print('Total:',(totalDir + totalFiles))\n",
        "        return totalFiles,totalDir;\n",
        "\n",
        "pass\n"
      ],
      "metadata": {
        "id": "6_kO0hN3nbDs"
      },
      "execution_count": 78,
      "outputs": []
    },
    {
      "cell_type": "code",
      "source": [
        "class direval:\n",
        "  \n",
        "  def dir_structure(startpath):\n",
        "        global dirtotalFiles\n",
        "        dirtotalFiles = 0\n",
        "        global dirtotalDir \n",
        "        dirtotalDir = 0\n",
        "        for base, dirs, files in os.walk(startpath):\n",
        "          #print('Searching in : ',base)\n",
        "          for directories in dirs:\n",
        "              dirtotalDir += 1\n",
        "          for Files in files:\n",
        "              dirtotalFiles += 1\n",
        "\n",
        "        print('Total number of files',dirtotalFiles)\n",
        "        print('Total Number of directories',dirtotalDir)\n",
        "        #print('Total:',(totalDir + totalFiles))\n",
        "        return dirtotalFiles,dirtotalDir;\n",
        "  \n",
        "  pass\n"
      ],
      "metadata": {
        "id": "hB0dZI4heXql"
      },
      "execution_count": 87,
      "outputs": []
    },
    {
      "cell_type": "code",
      "source": [
        "sub_folders = [name for name in os.listdir(dir) if os.path.isdir(os.path.join(dir, name))]\n",
        "print(sub_folders) # this prints all subfolders within the directory"
      ],
      "metadata": {
        "colab": {
          "base_uri": "https://localhost:8080/"
        },
        "id": "Xur4ZxhcHleW",
        "outputId": "e23cdf63-0404-49ea-8d45-b13c941fb394"
      },
      "execution_count": 19,
      "outputs": [
        {
          "output_type": "stream",
          "name": "stdout",
          "text": [
            "['Red-rumped Swallow', 'Common Rock Thursh', 'Crested Tit']\n"
          ]
        }
      ]
    },
    {
      "cell_type": "code",
      "source": [
        "list_files(dir) # general overview of dir sturcture."
      ],
      "metadata": {
        "colab": {
          "base_uri": "https://localhost:8080/"
        },
        "id": "vIjJZebE9ATK",
        "outputId": "15d90e20-330a-4055-a363-3a359550e325"
      },
      "execution_count": 31,
      "outputs": [
        {
          "output_type": "stream",
          "name": "stdout",
          "text": [
            "/\n",
            "Red-rumped Swallow/\n",
            "    XC463164 - Red-rumped Swallow - Cecropis daurica rufula.mp3\n",
            "    XC334161 - Red-rumped Swallow - Cecropis daurica.mp3\n",
            "    XC713333 - Red-rumped Swallow - Cecropis daurica.mp3\n",
            "    XC383401 - Red-rumped Swallow - Cecropis daurica.mp3\n",
            "    XC397895 - Red-rumped Swallow - Cecropis daurica.mp3\n",
            "    XC460972 - Red-rumped Swallow - Cecropis daurica.mp3\n",
            "    XC334159 - Red-rumped Swallow - Cecropis daurica.mp3\n",
            "    XC447361 - Red-rumped Swallow - Cecropis daurica.mp3\n",
            "    XC587771 - Red-rumped Swallow - Cecropis daurica.mp3\n",
            "    XC656929 - Red-rumped Swallow - Cecropis daurica.mp3\n",
            "    XC463162 - Red-rumped Swallow - Cecropis daurica rufula.mp3\n",
            "    XC672469 - Red-rumped Swallow - Cecropis daurica.mp3\n",
            "    XC485355 - Red-rumped Swallow - Cecropis daurica rufula.mp3\n",
            "    XC672468 - Red-rumped Swallow - Cecropis daurica.mp3\n",
            "    XC381917 - Red-rumped Swallow - Cecropis daurica.mp3\n",
            "    XC267777 - Red-rumped Swallow - Cecropis daurica.mp3\n",
            "Common Rock Thursh/\n",
            "    XC237725 - Common Rock Thrush - Monticola saxatilis.mp3\n",
            "    XC181713 - Common Rock Thrush - Monticola saxatilis.mp3\n",
            "    XC326648 - Common Rock Thrush - Monticola saxatilis.mp3\n",
            "    XC102155 - Common Rock Thrush - Monticola saxatilis.mp3\n",
            "    XC649771 - Common Rock Thrush - Monticola saxatilis.mp3\n",
            "    XC175529 - Common Rock Thrush - Monticola saxatilis.mp3\n",
            "Crested Tit/\n",
            "    XC327546 - European Crested Tit - Lophophanes cristatus.mp3\n",
            "    XC576574 - European Crested Tit - Lophophanes cristatus.mp3\n",
            "    XC301897 - European Crested Tit - Lophophanes cristatus.mp3\n",
            "    XC120182 - European Crested Tit - Lophophanes cristatus.mp3\n",
            "    XC80639 - European Crested Tit - Lophophanes cristatus.mp3\n",
            "    XC209056 - European Crested Tit - Lophophanes cristatus.mp3\n",
            "    XC45594 - European Crested Tit - Lophophanes cristatus.mp3\n",
            "    XC246413 - European Crested Tit - Lophophanes cristatus.mp3\n",
            "    XC246414 - European Crested Tit - Lophophanes cristatus.mp3\n",
            "    XC608690 - European Crested Tit - Lophophanes cristatus.mp3\n",
            "    XC396291 - European Crested Tit - Lophophanes cristatus.mp3\n",
            "    XC442319 - European Crested Tit - Lophophanes cristatus.mp3\n",
            "    XC326951 - European Crested Tit - Lophophanes cristatus.mp3\n",
            "    XC100772 - European Crested Tit - Lophophanes cristatus.mp3\n",
            "    XC640277 - European Crested Tit - Lophophanes cristatus.mp3\n",
            "    XC392922 - European Crested Tit - Lophophanes cristatus.mp3\n",
            "    XC615461 - European Crested Tit - Lophophanes cristatus.mp3\n",
            "    XC702264 - European Crested Tit - Lophophanes cristatus.mp3\n",
            "    XC310398 - European Crested Tit - Lophophanes cristatus.mp3\n",
            "    XC582616 - European Crested Tit - Lophophanes cristatus.mp3\n",
            "    XC342496 - European Crested Tit - Lophophanes cristatus.mp3\n"
          ]
        }
      ]
    },
    {
      "cell_type": "code",
      "source": [
        "structure(dir)"
      ],
      "metadata": {
        "id": "WAFDB2aW9Muo",
        "outputId": "683f4caa-0ee6-4c1a-f393-6e28460891a2",
        "colab": {
          "base_uri": "https://localhost:8080/"
        }
      },
      "execution_count": 73,
      "outputs": [
        {
          "output_type": "stream",
          "name": "stdout",
          "text": [
            "Total number of files 43\n",
            "Total Number of directories 3\n",
            "Total: 46\n"
          ]
        }
      ]
    },
    {
      "cell_type": "code",
      "source": [
        "#indivusual file directory paths. \n",
        "\n",
        "crt_dir ='/content/birddataset/Species/Common Rock Thursh'\n",
        "rrs_dir ='/content/birddataset/Species/Red-rumped Swallow'\n",
        "crst_dir = '/content/birddataset/Species/Crested Tit'\n"
      ],
      "metadata": {
        "id": "HYopuK7ibtSd"
      },
      "execution_count": 71,
      "outputs": []
    },
    {
      "cell_type": "code",
      "source": [
        "import matplotlib.pyplot as plt\n",
        "import numpy as np\n",
        "\n",
        "# Some example data to display\n",
        "x = np.linspace(0, 2 * np.pi, 400)\n",
        "y = np.sin(x ** 2)"
      ],
      "metadata": {
        "id": "1akGFKO9DUUh"
      },
      "execution_count": 1,
      "outputs": []
    },
    {
      "cell_type": "code",
      "source": [
        "numfiles = 4\n",
        "fig, axs = plt.subplots(numfiles)\n",
        "fig.suptitle('Vertically stacked subplots')\n",
        "axs[0].plot(x, y)\n",
        "axs[1].plot(x, -y)\n",
        "axs[2].plot(x, -y)\n",
        "\n"
      ],
      "metadata": {
        "colab": {
          "base_uri": "https://localhost:8080/",
          "height": 311
        },
        "id": "8qFokDkHDb59",
        "outputId": "130d5185-39d1-4e0f-f773-50f9a2493bf8"
      },
      "execution_count": 66,
      "outputs": [
        {
          "output_type": "execute_result",
          "data": {
            "text/plain": [
              "[<matplotlib.lines.Line2D at 0x7ff702342990>]"
            ]
          },
          "metadata": {},
          "execution_count": 66
        },
        {
          "output_type": "display_data",
          "data": {
            "text/plain": [
              "<Figure size 432x288 with 4 Axes>"
            ],
            "image/png": "[encoded data removed]"
          },
          "metadata": {
            "needs_background": "light"
          }
        }
      ]
    },
    {
      "cell_type": "code",
      "source": [
        "#structure(rrs_dir)\n",
        "direval.dir_structure(rrs_dir)\n",
        "direval.dir_structure(crt_dir)\n"
      ],
      "metadata": {
        "colab": {
          "base_uri": "https://localhost:8080/"
        },
        "id": "1TATDJQJL1aP",
        "outputId": "0ea6405d-a31c-4bcd-e3fa-13ed4555d4d2"
      },
      "execution_count": 89,
      "outputs": [
        {
          "output_type": "stream",
          "name": "stdout",
          "text": [
            "Total number of files 16\n",
            "Total Number of directories 0\n",
            "Total number of files 6\n",
            "Total Number of directories 0\n"
          ]
        },
        {
          "output_type": "execute_result",
          "data": {
            "text/plain": [
              "(6, 0)"
            ]
          },
          "metadata": {},
          "execution_count": 89
        }
      ]
    },
    {
      "cell_type": "code",
      "source": [
        "for i in range(dirtotalFiles):\n",
        "  print(\"test\")"
      ],
      "metadata": {
        "colab": {
          "base_uri": "https://localhost:8080/"
        },
        "id": "FEH2_GTuf6xo",
        "outputId": "c466aab2-cd80-4dae-ec3c-5f388149935c"
      },
      "execution_count": 91,
      "outputs": [
        {
          "output_type": "stream",
          "name": "stdout",
          "text": [
            "test\n",
            "test\n",
            "test\n",
            "test\n",
            "test\n",
            "test\n"
          ]
        }
      ]
    }
  ]
}