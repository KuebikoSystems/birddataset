{
  "nbformat": 4,
  "nbformat_minor": 0,
  "metadata": {
    "colab": {
      "name": "DatasetAutomation.ipynb",
      "provenance": [],
      "mount_file_id": "1mIw3BqeDaJR_a-HhLzcs2lLEJ7wbPUI-",
      "authorship_tag": "ABX9TyPysIBQ56KeSrpAbmqWPSsr",
      "include_colab_link": true
    },
    "kernelspec": {
      "name": "python3",
      "display_name": "Python 3"
    },
    "language_info": {
      "name": "python"
    }
  },
  "cells": [
    {
      "cell_type": "markdown",
      "metadata": {
        "id": "view-in-github",
        "colab_type": "text"
      },
      "source": [
        "<a href=\"https://colab.research.google.com/github/KuebikoSystems/birddataset/blob/main/DatasetAutomation.ipynb\" target=\"_parent\"><img src=\"https://colab.research.google.com/assets/colab-badge.svg\" alt=\"Open In Colab\"/></a>"
      ]
    },
    {
      "cell_type": "code",
      "source": [
        "! git clone \"https://github.com/KuebikoSystems/birddataset.git\""
      ],
      "metadata": {
        "colab": {
          "base_uri": "https://localhost:8080/"
        },
        "id": "FVZFcUSTTJgt",
        "outputId": "0d92e3ae-8654-4379-9545-e2fff03d8eff"
      },
      "execution_count": 5,
      "outputs": [
        {
          "output_type": "stream",
          "name": "stdout",
          "text": [
            "Cloning into 'birddataset'...\n",
            "remote: Enumerating objects: 260, done.\u001b[K\n",
            "remote: Counting objects: 100% (13/13), done.\u001b[K\n",
            "remote: Compressing objects: 100% (13/13), done.\u001b[K\n",
            "remote: Total 260 (delta 5), reused 0 (delta 0), pack-reused 247\u001b[K\n",
            "Receiving objects: 100% (260/260), 222.01 MiB | 34.32 MiB/s, done.\n",
            "Resolving deltas: 100% (9/9), done.\n"
          ]
        }
      ]
    },
    {
      "cell_type": "code",
      "source": [
        "import os , os.path\n",
        "import glob\n",
        "os.listdir(\"/content/birddataset/Species/\")"
      ],
      "metadata": {
        "colab": {
          "base_uri": "https://localhost:8080/"
        },
        "id": "3xK1vgJbm9t0",
        "outputId": "555bdd93-2331-4a91-e6ed-9113a30780a2"
      },
      "execution_count": 6,
      "outputs": [
        {
          "output_type": "execute_result",
          "data": {
            "text/plain": [
              "['Red-rumped Swallow', 'Common Rock Thursh', 'Crested Tit']"
            ]
          },
          "metadata": {},
          "execution_count": 6
        }
      ]
    },
    {
      "cell_type": "code",
      "source": [
        "dir = '/content/birddataset/Species/'\n",
        "\n",
        "def list_files(startpath):\n",
        "    for root, dirs, files in os.walk(startpath):\n",
        "        level = root.replace(startpath, '').count(os.sep)\n",
        "        indent = ' ' * 4 * (level)\n",
        "        print('{}{}/'.format(indent, os.path.basename(root)))\n",
        "        subindent = ' ' * 4 * (level + 1)\n",
        "        for f in files:\n",
        "            print('{}{}'.format(subindent, f))\n",
        "\n",
        "list_files(dir)\n",
        "\n",
        "totalFiles = 0\n",
        "totalDir = 0\n",
        "for base, dirs, files in os.walk(dir):\n",
        "    #print('Searching in : ',base)\n",
        "    for directories in dirs:\n",
        "        totalDir += 1\n",
        "    for Files in files:\n",
        "        totalFiles += 1\n",
        "\n",
        "print('Total number of files',totalFiles)\n",
        "print('Total Number of directories',totalDir)\n",
        "print('Total:',(totalDir + totalFiles))\n",
        "\n",
        "sub_folders = [name for name in os.listdir(dir) if os.path.isdir(os.path.join(dir, name))]\n",
        "\n",
        "print(sub_folders) # this prints all subfolders within the directory"
      ],
      "metadata": {
        "colab": {
          "base_uri": "https://localhost:8080/"
        },
        "id": "6_kO0hN3nbDs",
        "outputId": "9cbf915b-e244-4f77-e0bb-d4547f715e38"
      },
      "execution_count": 10,
      "outputs": [
        {
          "output_type": "stream",
          "name": "stdout",
          "text": [
            "/\n",
            "Red-rumped Swallow/\n",
            "    XC334161 - Red-rumped Swallow - Cecropis daurica.mp3\n",
            "    XC267777 - Red-rumped Swallow - Cecropis daurica.mp3\n",
            "    XC334159 - Red-rumped Swallow - Cecropis daurica.mp3\n",
            "    XC672468 - Red-rumped Swallow - Cecropis daurica.mp3\n",
            "    XC381917 - Red-rumped Swallow - Cecropis daurica.mp3\n",
            "    XC485355 - Red-rumped Swallow - Cecropis daurica rufula.mp3\n",
            "    XC383401 - Red-rumped Swallow - Cecropis daurica.mp3\n",
            "    XC463164 - Red-rumped Swallow - Cecropis daurica rufula.mp3\n",
            "    XC463162 - Red-rumped Swallow - Cecropis daurica rufula.mp3\n",
            "    XC656929 - Red-rumped Swallow - Cecropis daurica.mp3\n",
            "    XC397895 - Red-rumped Swallow - Cecropis daurica.mp3\n",
            "    XC672469 - Red-rumped Swallow - Cecropis daurica.mp3\n",
            "    XC587771 - Red-rumped Swallow - Cecropis daurica.mp3\n",
            "    XC447361 - Red-rumped Swallow - Cecropis daurica.mp3\n",
            "    XC460972 - Red-rumped Swallow - Cecropis daurica.mp3\n",
            "    XC713333 - Red-rumped Swallow - Cecropis daurica.mp3\n",
            "Common Rock Thursh/\n",
            "    XC181713 - Common Rock Thrush - Monticola saxatilis.mp3\n",
            "    XC175529 - Common Rock Thrush - Monticola saxatilis.mp3\n",
            "    XC102155 - Common Rock Thrush - Monticola saxatilis.mp3\n",
            "    XC326648 - Common Rock Thrush - Monticola saxatilis.mp3\n",
            "    XC237725 - Common Rock Thrush - Monticola saxatilis.mp3\n",
            "    XC649771 - Common Rock Thrush - Monticola saxatilis.mp3\n",
            "Crested Tit/\n",
            "    XC582616 - European Crested Tit - Lophophanes cristatus.mp3\n",
            "    XC45594 - European Crested Tit - Lophophanes cristatus.mp3\n",
            "    XC608690 - European Crested Tit - Lophophanes cristatus.mp3\n",
            "    XC310398 - European Crested Tit - Lophophanes cristatus.mp3\n",
            "    XC342496 - European Crested Tit - Lophophanes cristatus.mp3\n",
            "    XC327546 - European Crested Tit - Lophophanes cristatus.mp3\n",
            "    XC246413 - European Crested Tit - Lophophanes cristatus.mp3\n",
            "    XC576574 - European Crested Tit - Lophophanes cristatus.mp3\n",
            "    XC702264 - European Crested Tit - Lophophanes cristatus.mp3\n",
            "    XC615461 - European Crested Tit - Lophophanes cristatus.mp3\n",
            "    XC301897 - European Crested Tit - Lophophanes cristatus.mp3\n",
            "    XC326951 - European Crested Tit - Lophophanes cristatus.mp3\n",
            "    XC396291 - European Crested Tit - Lophophanes cristatus.mp3\n",
            "    XC209056 - European Crested Tit - Lophophanes cristatus.mp3\n",
            "    XC640277 - European Crested Tit - Lophophanes cristatus.mp3\n",
            "    XC392922 - European Crested Tit - Lophophanes cristatus.mp3\n",
            "    XC442319 - European Crested Tit - Lophophanes cristatus.mp3\n",
            "    XC100772 - European Crested Tit - Lophophanes cristatus.mp3\n",
            "    XC80639 - European Crested Tit - Lophophanes cristatus.mp3\n",
            "    XC120182 - European Crested Tit - Lophophanes cristatus.mp3\n",
            "    XC246414 - European Crested Tit - Lophophanes cristatus.mp3\n",
            "Total number of files 43\n",
            "Total Number of directories 3\n",
            "Total: 46\n",
            "['Red-rumped Swallow', 'Common Rock Thursh', 'Crested Tit']\n"
          ]
        }
      ]
    }
  ]
}